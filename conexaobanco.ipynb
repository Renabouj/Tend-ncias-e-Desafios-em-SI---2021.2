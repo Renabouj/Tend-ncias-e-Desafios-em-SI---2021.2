{
 "cells": [
  {
   "cell_type": "code",
   "execution_count": 2,
   "id": "a44f3886-2106-4bf3-97cf-7018f8f6c638",
   "metadata": {},
   "outputs": [],
   "source": [
    "import pyspark\n",
    "from pyspark.sql import SparkSession\n",
    "from pyspark.sql import Row\n",
    "from delta.tables import *\n",
    "from delta import *\n",
    "from pyspark.sql.functions import *\n",
    "import psycopg2\n",
    "import pandas as pd\n",
    "import os"
   ]
  },
  {
   "cell_type": "code",
   "execution_count": 3,
   "id": "2578fee1-b970-4857-8d28-396222493120",
   "metadata": {},
   "outputs": [],
   "source": [
    "env_vars = !cat Script/.env\n",
    "for var in env_vars:\n",
    "    key, value = var.split('=')\n",
    "    os.environ[key] = value"
   ]
  },
  {
   "cell_type": "code",
   "execution_count": 4,
   "id": "3a55456e-7f53-43a7-9901-5cc62bee6481",
   "metadata": {},
   "outputs": [
    {
     "name": "stderr",
     "output_type": "stream",
     "text": [
      "22/05/16 17:30:27 WARN Utils: Your hostname, MacBook-Pro-de-Renato.local resolves to a loopback address: 127.0.0.1; using 10.0.0.102 instead (on interface en0)\n",
      "22/05/16 17:30:27 WARN Utils: Set SPARK_LOCAL_IP if you need to bind to another address\n"
     ]
    },
    {
     "name": "stdout",
     "output_type": "stream",
     "text": [
      ":: loading settings :: url = jar:file:/Users/renabouj/Codes/tendenciasSI/env/lib/python3.9/site-packages/pyspark/jars/ivy-2.5.0.jar!/org/apache/ivy/core/settings/ivysettings.xml\n"
     ]
    },
    {
     "name": "stderr",
     "output_type": "stream",
     "text": [
      "Ivy Default Cache set to: /Users/renabouj/.ivy2/cache\n",
      "The jars for the packages stored in: /Users/renabouj/.ivy2/jars\n",
      "io.delta#delta-core_2.12 added as a dependency\n",
      ":: resolving dependencies :: org.apache.spark#spark-submit-parent-5cfb46ba-4456-485b-a71f-ed3987b3e1a9;1.0\n",
      "\tconfs: [default]\n",
      "\tfound io.delta#delta-core_2.12;1.2.1 in central\n",
      "\tfound io.delta#delta-storage;1.2.1 in central\n",
      "\tfound org.antlr#antlr4-runtime;4.8 in central\n",
      "\tfound org.codehaus.jackson#jackson-core-asl;1.9.13 in central\n",
      ":: resolution report :: resolve 183ms :: artifacts dl 10ms\n",
      "\t:: modules in use:\n",
      "\tio.delta#delta-core_2.12;1.2.1 from central in [default]\n",
      "\tio.delta#delta-storage;1.2.1 from central in [default]\n",
      "\torg.antlr#antlr4-runtime;4.8 from central in [default]\n",
      "\torg.codehaus.jackson#jackson-core-asl;1.9.13 from central in [default]\n",
      "\t---------------------------------------------------------------------\n",
      "\t|                  |            modules            ||   artifacts   |\n",
      "\t|       conf       | number| search|dwnlded|evicted|| number|dwnlded|\n",
      "\t---------------------------------------------------------------------\n",
      "\t|      default     |   4   |   0   |   0   |   0   ||   4   |   0   |\n",
      "\t---------------------------------------------------------------------\n",
      ":: retrieving :: org.apache.spark#spark-submit-parent-5cfb46ba-4456-485b-a71f-ed3987b3e1a9\n",
      "\tconfs: [default]\n",
      "\t0 artifacts copied, 4 already retrieved (0kB/6ms)\n",
      "22/05/16 17:30:28 WARN NativeCodeLoader: Unable to load native-hadoop library for your platform... using builtin-java classes where applicable\n",
      "Using Spark's default log4j profile: org/apache/spark/log4j-defaults.properties\n",
      "Setting default log level to \"WARN\".\n",
      "To adjust logging level use sc.setLogLevel(newLevel). For SparkR, use setLogLevel(newLevel).\n",
      "22/05/16 17:30:29 WARN Utils: Service 'SparkUI' could not bind on port 4040. Attempting port 4041.\n"
     ]
    }
   ],
   "source": [
    "builder = pyspark.sql.SparkSession.builder.appName(\"PySpark_Postgres_test\").config(\"spark.jars\", os.environ.get('SPARKJAR')).config(\"spark.sql.extensions\", \"io.delta.sql.DeltaSparkSessionExtension\").config(\"spark.sql.catalog.spark_catalog\", \"org.apache.spark.sql.delta.catalog.DeltaCatalog\").master(\"local\").appName(\"PySpark_Postgres_test\")\n",
    "\n",
    "spark = configure_spark_with_delta_pip(builder).getOrCreate()"
   ]
  },
  {
   "cell_type": "code",
   "execution_count": 5,
   "id": "9c614367-609a-4ba7-b6f4-8c80ef410946",
   "metadata": {},
   "outputs": [],
   "source": [
    "dataf = spark.read.format(\"jdbc\").option(\"url\", os.environ.get('DB_CONNECTION_STRING')) \\\n",
    "    .option(\"driver\", \"org.postgresql.Driver\").option(\"dbtable\", \"sales2\") \\\n",
    "    .option(\"user\", os.environ.get('USER')).option(\"password\", os.environ.get('PASSWORD')).load()"
   ]
  },
  {
   "cell_type": "code",
   "execution_count": 6,
   "id": "184342c6-94ec-4736-961c-92d7f2f0a474",
   "metadata": {},
   "outputs": [
    {
     "name": "stdout",
     "output_type": "stream",
     "text": [
      "root\n",
      " |-- Region: string (nullable = true)\n",
      " |-- Country: string (nullable = true)\n",
      " |-- Item_Type: string (nullable = true)\n",
      " |-- Sales_Channel: string (nullable = true)\n",
      " |-- Order_Priority: string (nullable = true)\n",
      " |-- Order_Date: string (nullable = true)\n",
      " |-- Order_ID: integer (nullable = true)\n",
      " |-- Ship_Date: string (nullable = true)\n",
      " |-- Units_Sold: integer (nullable = true)\n",
      " |-- Unit_Price: integer (nullable = true)\n",
      " |-- Unit_Cost: integer (nullable = true)\n",
      " |-- Total_Revenue: integer (nullable = true)\n",
      " |-- Total_Cost: integer (nullable = true)\n",
      " |-- Total_Profit: integer (nullable = true)\n",
      "\n"
     ]
    }
   ],
   "source": [
    "dataf.printSchema()"
   ]
  },
  {
   "cell_type": "code",
   "execution_count": 7,
   "id": "86a6176c-af64-4a75-a26b-e9558cca3a88",
   "metadata": {},
   "outputs": [
    {
     "name": "stderr",
     "output_type": "stream",
     "text": [
      "                                                                                \r"
     ]
    },
    {
     "data": {
      "text/plain": [
       "254160"
      ]
     },
     "execution_count": 7,
     "metadata": {},
     "output_type": "execute_result"
    }
   ],
   "source": [
    "dataf.count()"
   ]
  },
  {
   "cell_type": "code",
   "execution_count": 9,
   "id": "548c14b7-667e-4ea8-9ccd-34d431147e04",
   "metadata": {},
   "outputs": [
    {
     "name": "stdout",
     "output_type": "stream",
     "text": [
      "+--------------------+---------+---------+-------------+--------------+----------+---------+---------+----------+----------+---------+-------------+----------+------------+\n",
      "|              Region|  Country|Item_Type|Sales_Channel|Order_Priority|Order_Date| Order_ID|Ship_Date|Units_Sold|Unit_Price|Unit_Cost|Total_Revenue|Total_Cost|Total_Profit|\n",
      "+--------------------+---------+---------+-------------+--------------+----------+---------+---------+----------+----------+---------+-------------+----------+------------+\n",
      "|Australia and Oce...|Australia|     Meat|       Online|             C|  4/4/2011|451691138|5/23/2011|      3300|       500|      364|      1814127|   1568167|      245960|\n",
      "+--------------------+---------+---------+-------------+--------------+----------+---------+---------+----------+----------+---------+-------------+----------+------------+\n",
      "\n"
     ]
    },
    {
     "name": "stderr",
     "output_type": "stream",
     "text": [
      "[Stage 13:>                                                         (0 + 1) / 1]\r"
     ]
    },
    {
     "name": "stdout",
     "output_type": "stream",
     "text": [
      "+--------------------+---------+---------+-------------+--------------+----------+---------+---------+----------+----------+---------+-------------+----------+------------+\n",
      "|              Region|  Country|Item_Type|Sales_Channel|Order_Priority|Order_Date| Order_ID|Ship_Date|Units_Sold|Unit_Price|Unit_Cost|Total_Revenue|Total_Cost|Total_Profit|\n",
      "+--------------------+---------+---------+-------------+--------------+----------+---------+---------+----------+----------+---------+-------------+----------+------------+\n",
      "|Australia and Oce...|Australia|     Meat|       Online|             C|  4/4/2011|451691138|5/23/2011|      3300|       500|      364|      1814127|   1568167|      245960|\n",
      "+--------------------+---------+---------+-------------+--------------+----------+---------+---------+----------+----------+---------+-------------+----------+------------+\n",
      "\n"
     ]
    },
    {
     "name": "stderr",
     "output_type": "stream",
     "text": [
      "                                                                                \r"
     ]
    }
   ],
   "source": [
    "dataf.where(dataf.Order_ID == 451691138).show()\n",
    "deltadf = spark.read.format(\"delta\").load(\"/tmp/output/bancodeucerto2\")\n",
    "deltadf.where(deltadf.Order_ID == 451691138).show()"
   ]
  },
  {
   "cell_type": "code",
   "execution_count": 10,
   "id": "cdfc3e2f-2751-4d7d-971a-e41e23023953",
   "metadata": {},
   "outputs": [],
   "source": [
    "teste = DeltaTable.forPath(spark, \"/tmp/output/bancodeucerto2\")"
   ]
  },
  {
   "cell_type": "code",
   "execution_count": 11,
   "id": "e2a0868c-978d-4f88-8f25-3ad298e4e397",
   "metadata": {},
   "outputs": [
    {
     "name": "stderr",
     "output_type": "stream",
     "text": [
      "                                                                                \r"
     ]
    }
   ],
   "source": [
    "teste.update(\n",
    "  condition = expr(\"Order_ID == 451691138\"),\n",
    "  set = { \"Unit_Cost\": expr(\"Unit_Cost + 79\") })\n",
    "\n",
    "teste.update(\n",
    "  condition = expr(\"Order_ID == 451691138\"),\n",
    "  set = { \"Unit_Price\": expr(\"Unit_Price - 79\") })\n",
    "\n",
    "teste.update(\n",
    "  condition = expr(\"Order_ID == 451691138\"),\n",
    "  set = { \"Units_Sold\": expr(\"Units_Sold + 1000\") })"
   ]
  },
  {
   "cell_type": "code",
   "execution_count": 12,
   "id": "432b2288-ca50-43f8-a1f9-a3ca86a9d036",
   "metadata": {},
   "outputs": [
    {
     "name": "stdout",
     "output_type": "stream",
     "text": [
      "+--------------------+---------+---------+-------------+--------------+----------+---------+---------+----------+----------+---------+-------------+----------+------------+\n",
      "|              Region|  Country|Item_Type|Sales_Channel|Order_Priority|Order_Date| Order_ID|Ship_Date|Units_Sold|Unit_Price|Unit_Cost|Total_Revenue|Total_Cost|Total_Profit|\n",
      "+--------------------+---------+---------+-------------+--------------+----------+---------+---------+----------+----------+---------+-------------+----------+------------+\n",
      "|Australia and Oce...|Australia|     Meat|       Online|             C|  4/4/2011|451691138|5/23/2011|      4300|       421|      443|      1814127|   1568167|      245960|\n",
      "+--------------------+---------+---------+-------------+--------------+----------+---------+---------+----------+----------+---------+-------------+----------+------------+\n",
      "\n"
     ]
    }
   ],
   "source": [
    "df_final = spark.read.format(\"delta\").load(\"/tmp/output/bancodeucerto2\")\n",
    "df_final.where(df_final.Order_ID == 451691138).show()"
   ]
  },
  {
   "cell_type": "code",
   "execution_count": 14,
   "id": "0dab55b8-83de-4e59-99be-9b24939cef75",
   "metadata": {},
   "outputs": [
    {
     "name": "stderr",
     "output_type": "stream",
     "text": [
      "                                                                                \r"
     ]
    }
   ],
   "source": [
    "df_final.write.format(\"jdbc\").option(\"driver\", \"org.postgresql.Driver\").option(\"url\", os.environ.get('DB_CONNECTION_STRING')) \\\n",
    "    .option(\"dbtable\", \"sales2\").option(\"user\", os.environ.get('USER')).option(\"password\", os.environ.get('PASSWORD')) \\\n",
    "    .mode(\"overwrite\").save()"
   ]
  },
  {
   "cell_type": "code",
   "execution_count": null,
   "id": "ef82e8fb-690a-4bb6-8cdf-ad80a4329882",
   "metadata": {},
   "outputs": [],
   "source": [
    "dataf.write.format(\"delta\").save(\"/tmp/output/bancodeucerto2\")"
   ]
  },
  {
   "cell_type": "code",
   "execution_count": 7,
   "id": "7c190f56-8ad5-42ff-a2eb-1366ad873659",
   "metadata": {},
   "outputs": [
    {
     "name": "stderr",
     "output_type": "stream",
     "text": [
      "                                                                                \r"
     ]
    }
   ],
   "source": [
    "dataf.where(dataf.Order_ID == 451691138).withColumn(\"Unit_Price\", (pyspark.sql.functions.col(\"Unit_Price\") + 79))\n",
    "dataf.write.format(\"jdbc\").option(\"driver\", \"org.postgresql.Driver\").option(\"url\", \"jdbc:postgresql://localhost:5432/tendencias\") \\\n",
    "    .option(\"dbtable\", \"sales1\").option(\"user\", \"root\").option(\"password\", \"secret\") \\\n",
    "    .mode(\"overwrite\").save()"
   ]
  },
  {
   "cell_type": "code",
   "execution_count": 8,
   "id": "e869f9ec-ff99-4237-9292-0a83053bddcb",
   "metadata": {},
   "outputs": [
    {
     "name": "stderr",
     "output_type": "stream",
     "text": [
      "                                                                                \r"
     ]
    }
   ],
   "source": [
    "dataf.write.format(\"jdbc\").option(\"driver\", \"org.postgresql.Driver\").option(\"url\", \"jdbc:postgresql://localhost:5432/tendencias\") \\\n",
    "    .option(\"dbtable\", \"sales1\").option(\"user\", \"root\").option(\"password\", \"secret\") \\\n",
    "    .mode(\"overwrite\").save()"
   ]
  },
  {
   "cell_type": "code",
   "execution_count": 10,
   "id": "d4c73381-3326-4445-b46b-ffda663015ec",
   "metadata": {},
   "outputs": [
    {
     "name": "stderr",
     "output_type": "stream",
     "text": [
      "                                                                                \r"
     ]
    }
   ],
   "source": [
    "dataf.write.format(\"parquet\").save(\"/tmp/output/bancodeucerto\")"
   ]
  },
  {
   "cell_type": "code",
   "execution_count": 7,
   "id": "6582c29d-efd2-4aa1-ba97-b4f737c71200",
   "metadata": {},
   "outputs": [],
   "source": [
    "parDF = spark.read.parquet(\"/tmp/output/bancodeucerto\")"
   ]
  },
  {
   "cell_type": "code",
   "execution_count": 8,
   "id": "a2184100-eb03-4279-81c3-f22a87764174",
   "metadata": {},
   "outputs": [
    {
     "name": "stderr",
     "output_type": "stream",
     "text": [
      "                                                                                \r"
     ]
    }
   ],
   "source": [
    "dataf.write.format(\"delta\").save(\"/tmp/output/bancodeucerto2\")"
   ]
  },
  {
   "cell_type": "code",
   "execution_count": 18,
   "id": "430f3918-6f02-428c-974c-9c7e65f69e6f",
   "metadata": {},
   "outputs": [
    {
     "name": "stderr",
     "output_type": "stream",
     "text": [
      "                                                                                \r"
     ]
    }
   ],
   "source": [
    "deltadf = spark.read.format(\"delta\").load(\"/tmp/output/bancodeucerto2\")"
   ]
  },
  {
   "cell_type": "code",
   "execution_count": 19,
   "id": "fc5010a4-18bb-4ae1-902f-59fb510669c9",
   "metadata": {},
   "outputs": [
    {
     "name": "stderr",
     "output_type": "stream",
     "text": [
      "                                                                                \r"
     ]
    },
    {
     "name": "stdout",
     "output_type": "stream",
     "text": [
      "+------+------+---------+---------------+-------------+--------------+-------------------+---------+-------------------+----------+----------+---------+-------------+----------+------------+\n",
      "|    id|Region|  Country|      Item_Type|Sales_Channel|Order_Priority|         Order_Date| Order_ID|          Ship_Date|Units_Sold|Unit_Price|Unit_Cost|Total_Revenue|Total_Cost|Total_Profit|\n",
      "+------+------+---------+---------------+-------------+--------------+-------------------+---------+-------------------+----------+----------+---------+-------------+----------+------------+\n",
      "|254159|  Asia|Singapore|Office Supplies|       Online|             C|2010-06-06 21:00:00|953051793|2010-07-18 21:00:00|      8059|       651|      600|      5248101|   4230652|     1017448|\n",
      "+------+------+---------+---------------+-------------+--------------+-------------------+---------+-------------------+----------+----------+---------+-------------+----------+------------+\n",
      "\n"
     ]
    }
   ],
   "source": [
    "deltadf.where(deltadf.id == 254159).show()"
   ]
  },
  {
   "cell_type": "code",
   "execution_count": 20,
   "id": "b3844e49-cdcc-497f-aa8a-41e4f85d88ac",
   "metadata": {},
   "outputs": [
    {
     "name": "stderr",
     "output_type": "stream",
     "text": [
      "22/05/16 13:47:57 WARN HeartbeatReceiver: Removing executor driver with no recent heartbeats: 975219 ms exceeds timeout 120000 ms\n",
      "22/05/16 13:47:57 WARN SparkContext: Killing executors is not supported by current scheduler.\n"
     ]
    }
   ],
   "source": [
    "deltadf.write.format(\"jdbc\").option(\"driver\", \"org.postgresql.Driver\").option(\"url\", \"jdbc:postgresql://localhost:5432/tendencias\").option(\"dbtable\", \"sales2\").option(\"user\", \"root\").option(\"password\", \"secret\").mode(\"overwrite\").save()"
   ]
  },
  {
   "cell_type": "code",
   "execution_count": 9,
   "id": "921689d2-7c9a-4be5-adc1-01f6e28e71c1",
   "metadata": {},
   "outputs": [],
   "source": [
    "teste = DeltaTable.forPath(spark, \"/tmp/output/bancodeucerto2\")"
   ]
  },
  {
   "cell_type": "code",
   "execution_count": 13,
   "id": "1921a3f5-6b4c-4211-8110-2490831fb004",
   "metadata": {},
   "outputs": [
    {
     "name": "stderr",
     "output_type": "stream",
     "text": [
      "                                                                                \r"
     ]
    }
   ],
   "source": [
    "teste.update(\n",
    "  condition = expr(\"Order_ID == 451691138\"),\n",
    "  set = { \"Unit_Cost\": expr(\"Unit_Cost - 79\") })\n",
    "\n",
    "teste.update(\n",
    "  condition = expr(\"Order_ID == 451691138\"),\n",
    "  set = { \"Unit_Price\": expr(\"Unit_Price + 79\") })\n",
    "\n",
    "teste.update(\n",
    "  condition = expr(\"Order_ID == 451691138\"),\n",
    "  set = { \"Units_Sold\": expr(\"Units_Sold - 1000\") })"
   ]
  },
  {
   "cell_type": "code",
   "execution_count": 14,
   "id": "5d0cdfd9-135b-4377-94e8-bfcb72c336a2",
   "metadata": {},
   "outputs": [],
   "source": [
    "deltadf = spark.read.format(\"delta\").load(\"/tmp/output/bancodeucerto2\")"
   ]
  },
  {
   "cell_type": "code",
   "execution_count": 15,
   "id": "5c740be3-7d15-4672-93d4-71e5908e6ff7",
   "metadata": {},
   "outputs": [
    {
     "name": "stdout",
     "output_type": "stream",
     "text": [
      "+--------------------+---------+---------+-------------+--------------+----------+---------+---------+----------+----------+---------+-------------+----------+------------+\n",
      "|              Region|  Country|Item_Type|Sales_Channel|Order_Priority|Order_Date| Order_ID|Ship_Date|Units_Sold|Unit_Price|Unit_Cost|Total_Revenue|Total_Cost|Total_Profit|\n",
      "+--------------------+---------+---------+-------------+--------------+----------+---------+---------+----------+----------+---------+-------------+----------+------------+\n",
      "|Australia and Oce...|Australia|     Meat|       Online|             C|  4/4/2011|451691138|5/23/2011|      3300|       500|      364|      1814127|   1568167|      245960|\n",
      "+--------------------+---------+---------+-------------+--------------+----------+---------+---------+----------+----------+---------+-------------+----------+------------+\n",
      "\n"
     ]
    }
   ],
   "source": [
    "deltadf.where(deltadf.Order_ID == 451691138).show()"
   ]
  },
  {
   "cell_type": "code",
   "execution_count": 16,
   "id": "aea52ea6-ecb5-4616-bc9f-df59cc494626",
   "metadata": {},
   "outputs": [
    {
     "name": "stderr",
     "output_type": "stream",
     "text": [
      "                                                                                \r"
     ]
    }
   ],
   "source": [
    "deltadf.write.format(\"jdbc\").option(\"driver\", \"org.postgresql.Driver\").option(\"url\", \"jdbc:postgresql://localhost:5432/tendencias\").option(\"dbtable\", \"sales2\").option(\"user\", \"root\").option(\"password\", \"secret\").mode(\"overwrite\").save()"
   ]
  },
  {
   "cell_type": "code",
   "execution_count": null,
   "id": "18eeffff-4163-4d3d-a619-8e6e495115aa",
   "metadata": {},
   "outputs": [],
   "source": []
  }
 ],
 "metadata": {
  "kernelspec": {
   "display_name": "Python 3 (ipykernel)",
   "language": "python",
   "name": "python3"
  },
  "language_info": {
   "codemirror_mode": {
    "name": "ipython",
    "version": 3
   },
   "file_extension": ".py",
   "mimetype": "text/x-python",
   "name": "python",
   "nbconvert_exporter": "python",
   "pygments_lexer": "ipython3",
   "version": "3.9.12"
  }
 },
 "nbformat": 4,
 "nbformat_minor": 5
}
