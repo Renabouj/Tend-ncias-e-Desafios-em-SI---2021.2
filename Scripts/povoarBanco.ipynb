{
 "cells": [
  {
   "cell_type": "markdown",
   "id": "949bd2f8-10ad-44b7-94df-4770849495c2",
   "metadata": {},
   "source": [
    "# Importar as bibliotecas necessárias."
   ]
  },
  {
   "cell_type": "code",
   "execution_count": 1,
   "id": "069dc8ba-1187-4a46-8325-8490dd58668d",
   "metadata": {},
   "outputs": [],
   "source": [
    "import pyspark\n",
    "from pyspark.sql import SparkSession\n",
    "from pyspark.sql import Row\n",
    "from delta.tables import *\n",
    "from delta import *\n",
    "import pyspark.sql.functions as PSF\n",
    "import psycopg2\n",
    "import pandas as pd\n",
    "import os\n",
    "import time"
   ]
  },
  {
   "cell_type": "markdown",
   "id": "ffe20396-209a-4091-b62f-1a1286e34d85",
   "metadata": {},
   "source": [
    "## Coletar as variaveis de ambiente definidas em [Variáveis de Ambiente](https://github.com/Renabouj/Tendencias-e-Desafios-em-SI-2021.2/blob/main/README.md#vari%C3%A1veis-de-ambiente)."
   ]
  },
  {
   "cell_type": "code",
   "execution_count": 5,
   "id": "d8f9d30d-7c59-4751-88d2-807dd71cf69e",
   "metadata": {},
   "outputs": [],
   "source": [
    "env_vars = !cat ../Environment/.env\n",
    "for var in env_vars:\n",
    "    key, value = var.split('=')\n",
    "    os.environ[key] = value"
   ]
  },
  {
   "cell_type": "markdown",
   "id": "bd6aa7d9-eea1-4295-8b37-a601da57082d",
   "metadata": {},
   "source": [
    "## Configuração do Ambiente"
   ]
  },
  {
   "cell_type": "code",
   "execution_count": 6,
   "id": "0561c69e-4716-4f17-bd1f-610643b09327",
   "metadata": {},
   "outputs": [
    {
     "name": "stderr",
     "output_type": "stream",
     "text": [
      "22/05/18 13:03:54 WARN Utils: Your hostname, MacBook-Pro-de-Renato.local resolves to a loopback address: 127.0.0.1; using 10.0.0.102 instead (on interface en0)\n",
      "22/05/18 13:03:54 WARN Utils: Set SPARK_LOCAL_IP if you need to bind to another address\n"
     ]
    },
    {
     "name": "stdout",
     "output_type": "stream",
     "text": [
      ":: loading settings :: url = jar:file:/Users/renabouj/Codes/tendenciasSI/env/lib/python3.9/site-packages/pyspark/jars/ivy-2.5.0.jar!/org/apache/ivy/core/settings/ivysettings.xml\n"
     ]
    },
    {
     "name": "stderr",
     "output_type": "stream",
     "text": [
      "Ivy Default Cache set to: /Users/renabouj/.ivy2/cache\n",
      "The jars for the packages stored in: /Users/renabouj/.ivy2/jars\n",
      "io.delta#delta-core_2.12 added as a dependency\n",
      ":: resolving dependencies :: org.apache.spark#spark-submit-parent-e8023ca6-0b9c-4c06-8e33-ae8d3f80539f;1.0\n",
      "\tconfs: [default]\n",
      "\tfound io.delta#delta-core_2.12;1.2.1 in central\n",
      "\tfound io.delta#delta-storage;1.2.1 in central\n",
      "\tfound org.antlr#antlr4-runtime;4.8 in central\n",
      "\tfound org.codehaus.jackson#jackson-core-asl;1.9.13 in central\n",
      ":: resolution report :: resolve 185ms :: artifacts dl 23ms\n",
      "\t:: modules in use:\n",
      "\tio.delta#delta-core_2.12;1.2.1 from central in [default]\n",
      "\tio.delta#delta-storage;1.2.1 from central in [default]\n",
      "\torg.antlr#antlr4-runtime;4.8 from central in [default]\n",
      "\torg.codehaus.jackson#jackson-core-asl;1.9.13 from central in [default]\n",
      "\t---------------------------------------------------------------------\n",
      "\t|                  |            modules            ||   artifacts   |\n",
      "\t|       conf       | number| search|dwnlded|evicted|| number|dwnlded|\n",
      "\t---------------------------------------------------------------------\n",
      "\t|      default     |   4   |   0   |   0   |   0   ||   4   |   0   |\n",
      "\t---------------------------------------------------------------------\n",
      ":: retrieving :: org.apache.spark#spark-submit-parent-e8023ca6-0b9c-4c06-8e33-ae8d3f80539f\n",
      "\tconfs: [default]\n",
      "\t0 artifacts copied, 4 already retrieved (0kB/9ms)\n",
      "22/05/18 13:03:54 WARN NativeCodeLoader: Unable to load native-hadoop library for your platform... using builtin-java classes where applicable\n",
      "Using Spark's default log4j profile: org/apache/spark/log4j-defaults.properties\n",
      "Setting default log level to \"WARN\".\n",
      "To adjust logging level use sc.setLogLevel(newLevel). For SparkR, use setLogLevel(newLevel).\n",
      "22/05/18 13:03:55 WARN Utils: Service 'SparkUI' could not bind on port 4040. Attempting port 4041.\n"
     ]
    }
   ],
   "source": [
    "builder = pyspark.sql.SparkSession.builder.appName(\"PySpark_Postgres_test\").config(\"spark.jars\", os.environ.get('SPARKJAR')) \\\n",
    "    .config(\"spark.sql.extensions\", \"io.delta.sql.DeltaSparkSessionExtension\") \\\n",
    "    .config(\"spark.sql.catalog.spark_catalog\", \"org.apache.spark.sql.delta.catalog.DeltaCatalog\") \\\n",
    "    .master(\"local\").appName(\"PySpark_Postgres_test\")\n",
    "\n",
    "spark = configure_spark_with_delta_pip(builder).getOrCreate()"
   ]
  },
  {
   "cell_type": "markdown",
   "id": "9029ecc6-cc82-4c6e-a23d-a033be0903f4",
   "metadata": {},
   "source": [
    "## Ler o arquivo a fim de enviá-lo para o banco de dados."
   ]
  },
  {
   "cell_type": "code",
   "execution_count": 8,
   "id": "7ae31af2-dc64-4c66-9a54-36c70075c5f4",
   "metadata": {},
   "outputs": [
    {
     "name": "stderr",
     "output_type": "stream",
     "text": [
      "                                                                                \r"
     ]
    },
    {
     "name": "stdout",
     "output_type": "stream",
     "text": [
      "+--------------------+--------------------+-------------+-------------+--------------+----------+---------+----------+----------+----------+---------+-------------+----------+------------+\n",
      "|              Region|             Country|    Item_Type|Sales_Channel|Order_Priority|Order_Date| Order_ID| Ship_Date|Units_Sold|Unit_Price|Unit_Cost|Total_Revenue|Total_Cost|Total_Profit|\n",
      "+--------------------+--------------------+-------------+-------------+--------------+----------+---------+----------+----------+----------+---------+-------------+----------+------------+\n",
      "|Australia and Oce...|           Australia|         Meat|       Online|             C|  4/4/2011|451691138| 5/23/2011|      4300|       421|      364|      1814127|   1568167|      245960|\n",
      "|                Asia|          Tajikistan|Personal Care|       Online|             L| 7/12/2018|144177377|  8/1/2018|      4145|        81|       56|       338770|    234897|      103873|\n",
      "|  Sub-Saharan Africa|          Mozambique|    Cosmetics|       Online|             H|  7/6/2011|982716166| 7/17/2011|      6407|       437|      263|      2801140|   1687155|     1113985|\n",
      "|Central America a...|              Panama|Personal Care|      Offline|             L|  5/1/2011|784543836| 5/11/2011|      2810|        81|       56|       229661|    159242|       70418|\n",
      "|       North America|              Canada|       Fruits|       Online|             H|11/15/2013|137209212|12/29/2013|      2110|         9|        6|        19686|     14601|        5085|\n",
      "|              Europe|               Italy|       Fruits|      Offline|             C| 7/16/2016|148573625| 7/18/2016|      5092|         9|        6|        47508|     35236|       12271|\n",
      "|              Europe|             Romania|    Beverages|      Offline|             C|11/15/2012|196810901| 12/1/2012|      9574|        47|       31|       454286|    304357|      149928|\n",
      "|Australia and Oce...|           Australia|    Cosmetics|      Offline|             L| 4/30/2019|180407369| 5/25/2019|      5404|       437|      263|      2362628|   1423035|      939593|\n",
      "|              Europe|Bosnia and Herzeg...|    Cosmetics|      Offline|             C| 5/29/2016|968161857|  6/8/2016|      9463|       437|      263|      4137223|   2491891|     1645331|\n",
      "|                Asia|               Japan|      Clothes|       Online|             M| 3/25/2018|349185693|  4/8/2018|       661|       109|       35|        72234|     23690|       48543|\n",
      "|Australia and Oce...|    Papua New Guinea|    Beverages|       Online|             H| 8/28/2013|682902705| 9/18/2013|      4941|        47|       31|       234450|    157074|       77376|\n",
      "|  Sub-Saharan Africa|          Madagascar|       Fruits|       Online|             L| 6/17/2014|349049222| 7/10/2014|       276|         9|        6|         2575|      1909|         665|\n",
      "|Central America a...|Saint Kitts and N...|Personal Care|       Online|             H|11/11/2017|497674071|11/16/2017|      1672|        81|       56|       136652|     94752|       41900|\n",
      "|              Europe|            Slovakia|         Meat|       Online|             M|11/26/2011|999138581|12/10/2011|      6164|       421|      364|      2600529|   2247949|      352580|\n",
      "|  Sub-Saharan Africa|             Eritrea|         Meat|      Offline|             H| 11/9/2012|894116580|12/13/2012|      7820|       421|      364|      3299179|   2851875|      447304|\n",
      "|  Sub-Saharan Africa|            Botswana|       Cereal|       Online|             M| 2/11/2017|643594396| 2/24/2017|      2739|       205|      117|       563412|    320764|      242648|\n",
      "|Australia and Oce...|Federated States ...|    Household|      Offline|             C| 3/25/2017|778870856|  5/3/2017|      4049|       668|      502|      2705825|   2034784|      671040|\n",
      "|                Asia|          Uzbekistan|         Meat|      Offline|             M|12/11/2017|551557290|12/20/2017|      6914|       421|      364|      2916947|   2521466|      395480|\n",
      "|Middle East and N...|              Jordan|    Beverages|      Offline|             M| 2/29/2020|183577525| 3/13/2020|      3524|        47|       31|       167213|    112027|       55185|\n",
      "|Australia and Oce...|Federated States ...|       Snacks|      Offline|             H|  8/6/2015|417167890|  8/8/2015|      8104|       152|       97|      1236508|    789653|      446854|\n",
      "+--------------------+--------------------+-------------+-------------+--------------+----------+---------+----------+----------+----------+---------+-------------+----------+------------+\n",
      "only showing top 20 rows\n",
      "\n"
     ]
    }
   ],
   "source": [
    "dataf = spark.read.format(\"csv\").option(\"delimiter\", \",\").option(\"header\", \"true\").option(\"inferSchema\", \"true\") \\\n",
    "        .load(\"../data/200ksales.csv\")\n",
    "dataf.show()"
   ]
  },
  {
   "cell_type": "code",
   "execution_count": 9,
   "id": "4a099519-7464-4818-a745-e5c237036a31",
   "metadata": {},
   "outputs": [],
   "source": [
    "lista_de_colunas_inteiro = [\"Units_Sold\", \"Unit_Price\", \"Unit_Cost\", \"Total_Revenue\", \"Total_Cost\", \"Total_Profit\"]\n",
    "\n",
    "def convert_data_types(df, columns_list):\n",
    "    for column_name in columns_list:\n",
    "        df.select(PSF.col(column_name).cast('bigint').alias(column_name))\n",
    "    return df"
   ]
  },
  {
   "cell_type": "code",
   "execution_count": 10,
   "id": "115d50ac-4b76-4a18-af59-3c56bad9b602",
   "metadata": {},
   "outputs": [
    {
     "data": {
      "text/plain": [
       "DataFrame[Region: string, Country: string, Item_Type: string, Sales_Channel: string, Order_Priority: string, Order_Date: string, Order_ID: int, Ship_Date: string, Units_Sold: int, Unit_Price: int, Unit_Cost: int, Total_Revenue: int, Total_Cost: int, Total_Profit: int]"
      ]
     },
     "execution_count": 10,
     "metadata": {},
     "output_type": "execute_result"
    }
   ],
   "source": [
    "convert_data_types(dataf, lista_de_colunas_inteiro)"
   ]
  },
  {
   "cell_type": "markdown",
   "id": "614236eb-e481-4810-8079-0778e26389fb",
   "metadata": {},
   "source": [
    "## Salvar o arquivo 200ksales.csv no banco de dados. "
   ]
  },
  {
   "cell_type": "code",
   "execution_count": 11,
   "id": "29b7d011-450f-45ad-b078-e2158e1491c8",
   "metadata": {},
   "outputs": [
    {
     "name": "stderr",
     "output_type": "stream",
     "text": [
      "[Stage 3:>                                                          (0 + 1) / 1]\r"
     ]
    },
    {
     "name": "stdout",
     "output_type": "stream",
     "text": [
      "Overwrite done!\n"
     ]
    },
    {
     "name": "stderr",
     "output_type": "stream",
     "text": [
      "ERROR:root:Exception while sending command.                                     \n",
      "Traceback (most recent call last):\n",
      "  File \"/Users/renabouj/Codes/tendenciasSI/env/lib/python3.9/site-packages/py4j/clientserver.py\", line 480, in send_command\n",
      "    raise Py4JNetworkError(\"Answer from Java side is empty\")\n",
      "py4j.protocol.Py4JNetworkError: Answer from Java side is empty\n",
      "\n",
      "During handling of the above exception, another exception occurred:\n",
      "\n",
      "Traceback (most recent call last):\n",
      "  File \"/Users/renabouj/Codes/tendenciasSI/env/lib/python3.9/site-packages/py4j/java_gateway.py\", line 1038, in send_command\n",
      "    response = connection.send_command(command)\n",
      "  File \"/Users/renabouj/Codes/tendenciasSI/env/lib/python3.9/site-packages/py4j/clientserver.py\", line 503, in send_command\n",
      "    raise Py4JNetworkError(\n",
      "py4j.protocol.Py4JNetworkError: Error while sending or receiving\n"
     ]
    }
   ],
   "source": [
    "# O parâmetro OVERWRITE somente será True se já\n",
    "# existir uma tabela cujo nome é o passado no \n",
    "# parâmetro DBNAME.\n",
    "\n",
    "def save_data_to_database(df, dbname: str, overwrite: bool):\n",
    "    if overwrite:\n",
    "        df.write.format(\"jdbc\").option(\"driver\", \"org.postgresql.Driver\").option(\"url\", os.environ.get('DB_CONNECTION_STRING')) \\\n",
    "        .option(\"dbtable\", dbname).option(\"user\", os.environ.get('USER')).option(\"password\", os.environ.get('PASSWORD')) \\\n",
    "        .mode(\"overwrite\").save()\n",
    "        \n",
    "        return print(\"Overwrite done!\")\n",
    "    \n",
    "    else:\n",
    "        df.write.format(\"jdbc\").option(\"driver\", \"org.postgresql.Driver\").option(\"url\", os.environ.get('DB_CONNECTION_STRING')) \\\n",
    "        .option(\"dbtable\", dbname).option(\"user\", os.environ.get('USER')).option(\"password\", os.environ.get('PASSWORD')).save()\n",
    "        \n",
    "        return print(\"Saved without overwrite!\")\n",
    "        \n",
    "save_data_to_database(dataf, \"sales\", True)"
   ]
  },
  {
   "cell_type": "code",
   "execution_count": null,
   "id": "70189df0-3e62-4606-98a6-127eaf49497e",
   "metadata": {},
   "outputs": [],
   "source": []
  }
 ],
 "metadata": {
  "kernelspec": {
   "display_name": "Python 3 (ipykernel)",
   "language": "python",
   "name": "python3"
  },
  "language_info": {
   "codemirror_mode": {
    "name": "ipython",
    "version": 3
   },
   "file_extension": ".py",
   "mimetype": "text/x-python",
   "name": "python",
   "nbconvert_exporter": "python",
   "pygments_lexer": "ipython3",
   "version": "3.9.12"
  }
 },
 "nbformat": 4,
 "nbformat_minor": 5
}
