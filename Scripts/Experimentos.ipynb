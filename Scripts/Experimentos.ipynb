{
 "cells": [
  {
   "cell_type": "markdown",
   "id": "a7f73525-8607-48c8-adf6-3531cf2cebe4",
   "metadata": {},
   "source": [
    "## Imports"
   ]
  },
  {
   "cell_type": "code",
   "execution_count": 1,
   "id": "9af8477e-addc-4fb1-8ae8-32e494d5abdd",
   "metadata": {},
   "outputs": [],
   "source": [
    "import pyspark\n",
    "from pyspark.sql import SparkSession\n",
    "from pyspark.sql import Row\n",
    "from delta.tables import *\n",
    "from delta import *\n",
    "import pyspark.sql.functions as PSF\n",
    "import psycopg2\n",
    "import pandas as pd\n",
    "import os\n",
    "import time"
   ]
  },
  {
   "cell_type": "markdown",
   "id": "d774aee6-b3c0-497e-8925-fd92c05577b7",
   "metadata": {},
   "source": [
    "## Coletar as variaveis de ambiente definidas em [Variáveis de Ambiente](https://github.com/Renabouj/Tendencias-e-Desafios-em-SI-2021.2/blob/main/README.md#vari%C3%A1veis-de-ambiente)."
   ]
  },
  {
   "cell_type": "code",
   "execution_count": 2,
   "id": "52613b5f-8df3-4657-bb89-8081ba31413b",
   "metadata": {},
   "outputs": [],
   "source": [
    "env_vars = !cat ../Environment/.env\n",
    "for var in env_vars:\n",
    "    key, value = var.split('=')\n",
    "    os.environ[key] = value"
   ]
  },
  {
   "cell_type": "markdown",
   "id": "8a7126a6-2ab5-4836-a6ce-82fc21704b72",
   "metadata": {},
   "source": [
    "## Funcão criada a fim de salvar os dados no Banco de Dados"
   ]
  },
  {
   "cell_type": "code",
   "execution_count": 3,
   "id": "15be3975-8e8f-4ac1-9bc5-1a28c213cc7a",
   "metadata": {},
   "outputs": [],
   "source": [
    "# O parâmetro OVERWRITE somente será True se já\n",
    "# existir uma tabela cujo nome é o passado no \n",
    "# parâmetro DBNAME.\n",
    "#\n",
    "# O parâmetro APPEND será True somente se já\n",
    "# existir uma tabela no banco de dados e o\n",
    "# usuário queira apenas adicionar uma informação\n",
    "# específica.\n",
    "\n",
    "def save_data_to_database(df, dbname: str, overwrite: bool, append: bool):\n",
    "    if overwrite:\n",
    "        df.write.format(\"jdbc\").option(\"driver\", \"org.postgresql.Driver\").option(\"url\", os.environ.get('DB_CONNECTION_STRING')) \\\n",
    "        .option(\"dbtable\", dbname).option(\"user\", os.environ.get('USER')).option(\"password\", os.environ.get('PASSWORD')) \\\n",
    "        .mode(\"overwrite\").save()\n",
    "        \n",
    "        return print(\"Overwrite done!\")\n",
    "    elif append:\n",
    "        df.write.format(\"jdbc\").option(\"driver\", \"org.postgresql.Driver\").option(\"url\", os.environ.get('DB_CONNECTION_STRING')) \\\n",
    "        .option(\"dbtable\", dbname).option(\"user\", os.environ.get('USER')).option(\"password\", os.environ.get('PASSWORD')) \\\n",
    "        .mode(\"append\").save()\n",
    "        \n",
    "        return print(\"Saved with append\")\n",
    "    else:\n",
    "        df.write.format(\"jdbc\").option(\"driver\", \"org.postgresql.Driver\").option(\"url\", os.environ.get('DB_CONNECTION_STRING')) \\\n",
    "        .option(\"dbtable\", dbname).option(\"user\", os.environ.get('USER')).option(\"password\", os.environ.get('PASSWORD')).save()\n",
    "        \n",
    "        return print(\"Saved without overwrite!\")"
   ]
  },
  {
   "cell_type": "markdown",
   "id": "c99cc574-e166-4f9a-be39-454935489051",
   "metadata": {},
   "source": [
    "## Configurações do Spark"
   ]
  },
  {
   "cell_type": "code",
   "execution_count": 4,
   "id": "cb441461-997e-4d6b-8627-1bd1aa1a4539",
   "metadata": {},
   "outputs": [
    {
     "name": "stderr",
     "output_type": "stream",
     "text": [
      "22/05/18 13:09:09 WARN Utils: Your hostname, MacBook-Pro-de-Renato.local resolves to a loopback address: 127.0.0.1; using 10.0.0.102 instead (on interface en0)\n",
      "22/05/18 13:09:09 WARN Utils: Set SPARK_LOCAL_IP if you need to bind to another address\n"
     ]
    },
    {
     "name": "stdout",
     "output_type": "stream",
     "text": [
      ":: loading settings :: url = jar:file:/Users/renabouj/Codes/tendenciasSI/env/lib/python3.9/site-packages/pyspark/jars/ivy-2.5.0.jar!/org/apache/ivy/core/settings/ivysettings.xml\n"
     ]
    },
    {
     "name": "stderr",
     "output_type": "stream",
     "text": [
      "Ivy Default Cache set to: /Users/renabouj/.ivy2/cache\n",
      "The jars for the packages stored in: /Users/renabouj/.ivy2/jars\n",
      "io.delta#delta-core_2.12 added as a dependency\n",
      ":: resolving dependencies :: org.apache.spark#spark-submit-parent-903cfb66-a1fe-464c-ac3b-fa1fa58b06ef;1.0\n",
      "\tconfs: [default]\n",
      "\tfound io.delta#delta-core_2.12;1.2.1 in central\n",
      "\tfound io.delta#delta-storage;1.2.1 in central\n",
      "\tfound org.antlr#antlr4-runtime;4.8 in central\n",
      "\tfound org.codehaus.jackson#jackson-core-asl;1.9.13 in central\n",
      ":: resolution report :: resolve 216ms :: artifacts dl 24ms\n",
      "\t:: modules in use:\n",
      "\tio.delta#delta-core_2.12;1.2.1 from central in [default]\n",
      "\tio.delta#delta-storage;1.2.1 from central in [default]\n",
      "\torg.antlr#antlr4-runtime;4.8 from central in [default]\n",
      "\torg.codehaus.jackson#jackson-core-asl;1.9.13 from central in [default]\n",
      "\t---------------------------------------------------------------------\n",
      "\t|                  |            modules            ||   artifacts   |\n",
      "\t|       conf       | number| search|dwnlded|evicted|| number|dwnlded|\n",
      "\t---------------------------------------------------------------------\n",
      "\t|      default     |   4   |   0   |   0   |   0   ||   4   |   0   |\n",
      "\t---------------------------------------------------------------------\n",
      ":: retrieving :: org.apache.spark#spark-submit-parent-903cfb66-a1fe-464c-ac3b-fa1fa58b06ef\n",
      "\tconfs: [default]\n",
      "\t0 artifacts copied, 4 already retrieved (0kB/9ms)\n",
      "22/05/18 13:09:10 WARN NativeCodeLoader: Unable to load native-hadoop library for your platform... using builtin-java classes where applicable\n",
      "Using Spark's default log4j profile: org/apache/spark/log4j-defaults.properties\n",
      "Setting default log level to \"WARN\".\n",
      "To adjust logging level use sc.setLogLevel(newLevel). For SparkR, use setLogLevel(newLevel).\n",
      "22/05/18 13:09:11 WARN Utils: Service 'SparkUI' could not bind on port 4040. Attempting port 4041.\n"
     ]
    }
   ],
   "source": [
    "builder = pyspark.sql.SparkSession.builder.appName(\"PySpark_Postgres_test\").config(\"spark.jars\", os.environ.get('SPARKJAR')) \\\n",
    "    .config(\"spark.sql.extensions\", \"io.delta.sql.DeltaSparkSessionExtension\") \\\n",
    "    .config(\"spark.sql.catalog.spark_catalog\", \"org.apache.spark.sql.delta.catalog.DeltaCatalog\") \\\n",
    "    .master(\"local\").appName(\"PySpark_Postgres_test\")\n",
    "\n",
    "spark = configure_spark_with_delta_pip(builder).getOrCreate()"
   ]
  },
  {
   "cell_type": "markdown",
   "id": "1e0ab795-dd45-499d-b489-982b4abc0ef8",
   "metadata": {},
   "source": [
    "## Importar os dados encontrados no Banco de Dados"
   ]
  },
  {
   "cell_type": "code",
   "execution_count": 5,
   "id": "23e95966-29a0-4c9d-b4d7-8a95a097386b",
   "metadata": {},
   "outputs": [],
   "source": [
    "dataf = spark.read.format(\"jdbc\").option(\"url\", os.environ.get('DB_CONNECTION_STRING')) \\\n",
    "    .option(\"driver\", \"org.postgresql.Driver\").option(\"dbtable\", \"sales\") \\\n",
    "    .option(\"user\", os.environ.get('USER')).option(\"password\", os.environ.get('PASSWORD')).load()"
   ]
  },
  {
   "cell_type": "code",
   "execution_count": 6,
   "id": "a420bfad-b285-4a24-a734-2debfabe7c75",
   "metadata": {},
   "outputs": [
    {
     "name": "stderr",
     "output_type": "stream",
     "text": [
      "[Stage 0:>                                                          (0 + 1) / 1]\r"
     ]
    },
    {
     "name": "stdout",
     "output_type": "stream",
     "text": [
      "+--------------------+---------+---------+-------------+--------------+----------+---------+---------+----------+----------+---------+-------------+----------+------------+\n",
      "|              Region|  Country|Item_Type|Sales_Channel|Order_Priority|Order_Date| Order_ID|Ship_Date|Units_Sold|Unit_Price|Unit_Cost|Total_Revenue|Total_Cost|Total_Profit|\n",
      "+--------------------+---------+---------+-------------+--------------+----------+---------+---------+----------+----------+---------+-------------+----------+------------+\n",
      "|Australia and Oce...|Australia|     Meat|       Online|             C|  4/4/2011|451691138|5/23/2011|      4300|       421|      364|      1814127|   1568167|      245960|\n",
      "+--------------------+---------+---------+-------------+--------------+----------+---------+---------+----------+----------+---------+-------------+----------+------------+\n",
      "\n"
     ]
    },
    {
     "name": "stderr",
     "output_type": "stream",
     "text": [
      "                                                                                \r"
     ]
    }
   ],
   "source": [
    "dataf.where(dataf.Order_ID == 451691138).show()"
   ]
  },
  {
   "cell_type": "markdown",
   "id": "47c5d7fb-f702-4cfc-9511-626a281187fe",
   "metadata": {},
   "source": [
    "## [Experimento 1] Experimento com 10 Repetições"
   ]
  },
  {
   "cell_type": "markdown",
   "id": "344fe0df-58ee-4871-ba71-49ac63054dc4",
   "metadata": {},
   "source": [
    "### Salvar os Dados em uma Pasta Temporária"
   ]
  },
  {
   "cell_type": "code",
   "execution_count": 7,
   "id": "1a994de7-0fda-4863-94fc-599a2b6349cb",
   "metadata": {},
   "outputs": [
    {
     "name": "stderr",
     "output_type": "stream",
     "text": [
      "                                                                                \r"
     ]
    }
   ],
   "source": [
    "dataf.write.format(\"delta\").save(\"/tmp/output/experimentodelta10\")"
   ]
  },
  {
   "cell_type": "markdown",
   "id": "3d49e392-0ab9-49d2-a3d9-7a0b2528d1e6",
   "metadata": {},
   "source": [
    "#### Leitura dos Dados Salvos na Pasta Temporária"
   ]
  },
  {
   "cell_type": "code",
   "execution_count": 8,
   "id": "0b880b58-e8bf-4b29-9879-2a385e0b2f5e",
   "metadata": {},
   "outputs": [
    {
     "name": "stderr",
     "output_type": "stream",
     "text": [
      "                                                                                \r"
     ]
    },
    {
     "name": "stdout",
     "output_type": "stream",
     "text": [
      "+--------------------+---------+---------+-------------+--------------+----------+---------+---------+----------+----------+---------+-------------+----------+------------+\n",
      "|              Region|  Country|Item_Type|Sales_Channel|Order_Priority|Order_Date| Order_ID|Ship_Date|Units_Sold|Unit_Price|Unit_Cost|Total_Revenue|Total_Cost|Total_Profit|\n",
      "+--------------------+---------+---------+-------------+--------------+----------+---------+---------+----------+----------+---------+-------------+----------+------------+\n",
      "|Australia and Oce...|Australia|     Meat|       Online|             C|  4/4/2011|451691138|5/23/2011|      4300|       421|      364|      1814127|   1568167|      245960|\n",
      "+--------------------+---------+---------+-------------+--------------+----------+---------+---------+----------+----------+---------+-------------+----------+------------+\n",
      "\n"
     ]
    }
   ],
   "source": [
    "parDF = spark.read.format(\"delta\").load(\"/tmp/output/experimentodelta10\")\n",
    "parDF.where(parDF.Order_ID == 451691138).show()"
   ]
  },
  {
   "cell_type": "markdown",
   "id": "a217f34d-e947-4525-8d39-43b1aab1bdb0",
   "metadata": {},
   "source": [
    "#### Execução do Experimento"
   ]
  },
  {
   "cell_type": "code",
   "execution_count": 9,
   "id": "f4c2a1f5-7f92-43d9-a3d5-285cbf07b381",
   "metadata": {},
   "outputs": [
    {
     "name": "stderr",
     "output_type": "stream",
     "text": [
      "                                                                                \r"
     ]
    },
    {
     "name": "stdout",
     "output_type": "stream",
     "text": [
      "75.68113589286804\n"
     ]
    }
   ],
   "source": [
    "teste = DeltaTable.forPath(spark, \"/tmp/output/experimentodelta10\")\n",
    "start = time.time()\n",
    "for i in range(10):\n",
    "    teste.update(\n",
    "        condition = PSF.expr(\"Order_ID == 451691138\"),\n",
    "        set = { \"Unit_Price\": PSF.expr(\"Unit_Price + 1\")\n",
    "    }),\n",
    "    teste.update(\n",
    "        condition = PSF.expr(\"Order_ID == 451691138\"),\n",
    "        set = { \"Units_Sold\": PSF.expr(\"Units_Sold + 1\")\n",
    "    })\n",
    "end = time.time()\n",
    "print(end - start)"
   ]
  },
  {
   "cell_type": "code",
   "execution_count": 10,
   "id": "df2fbb16-8f30-4a50-a977-b5a952ffeba4",
   "metadata": {},
   "outputs": [
    {
     "name": "stdout",
     "output_type": "stream",
     "text": [
      "+--------------------+---------+---------+-------------+--------------+----------+---------+---------+----------+----------+---------+-------------+----------+------------+\n",
      "|              Region|  Country|Item_Type|Sales_Channel|Order_Priority|Order_Date| Order_ID|Ship_Date|Units_Sold|Unit_Price|Unit_Cost|Total_Revenue|Total_Cost|Total_Profit|\n",
      "+--------------------+---------+---------+-------------+--------------+----------+---------+---------+----------+----------+---------+-------------+----------+------------+\n",
      "|Australia and Oce...|Australia|     Meat|       Online|             C|  4/4/2011|451691138|5/23/2011|      4310|       431|      364|      1814127|   1568167|      245960|\n",
      "+--------------------+---------+---------+-------------+--------------+----------+---------+---------+----------+----------+---------+-------------+----------+------------+\n",
      "\n"
     ]
    }
   ],
   "source": [
    "parDF = spark.read.format(\"delta\").load(\"/tmp/output/experimentodelta10\")\n",
    "parDF.where(parDF.Order_ID == 451691138).show()"
   ]
  },
  {
   "cell_type": "markdown",
   "id": "4e1b04ba-4496-49e2-ae07-08acc99f31c3",
   "metadata": {},
   "source": [
    "#### Salvar Todas as Informações Alteradas no Banco de Dados"
   ]
  },
  {
   "cell_type": "code",
   "execution_count": 11,
   "id": "69cfbacc-0fe0-4c00-a409-4d8eeb040f65",
   "metadata": {},
   "outputs": [
    {
     "name": "stderr",
     "output_type": "stream",
     "text": [
      "[Stage 266:>                                                        (0 + 1) / 1]\r"
     ]
    },
    {
     "name": "stdout",
     "output_type": "stream",
     "text": [
      "Overwrite done!\n",
      "21.101806163787842\n",
      "Vá no TablePlus, aperte command + r e busque o item Order_ID == 451691138\n"
     ]
    },
    {
     "name": "stderr",
     "output_type": "stream",
     "text": [
      "                                                                                \r"
     ]
    }
   ],
   "source": [
    "start = time.time()\n",
    "save_data_to_database(parDF, \"sales\", True, False)\n",
    "end = time.time()\n",
    "print(end - start)\n",
    "print(\"Vá no TablePlus, aperte command + r e busque o item Order_ID == 451691138\")\n",
    "# Units_Sold = 4310\n",
    "# Unit_Price = 431"
   ]
  },
  {
   "cell_type": "markdown",
   "id": "926ae3a3-1cb5-481b-bfcd-4884a4eda3f5",
   "metadata": {},
   "source": [
    "#### Deletar um Order_ID e Salvar no Banco de Dados"
   ]
  },
  {
   "cell_type": "code",
   "execution_count": 12,
   "id": "356ee4c6-bf40-49df-9b68-0d9d7e3e6d08",
   "metadata": {},
   "outputs": [
    {
     "name": "stderr",
     "output_type": "stream",
     "text": [
      "                                                                                \r"
     ]
    }
   ],
   "source": [
    "deleting = DeltaTable.forPath(spark, \"/tmp/output/experimentodelta10\")\n",
    "deleting.delete(PSF.col('Order_ID') == 451691138)"
   ]
  },
  {
   "cell_type": "code",
   "execution_count": 13,
   "id": "9dfcaf69-322e-4a0b-b627-29ca37d15f1f",
   "metadata": {},
   "outputs": [
    {
     "data": {
      "text/plain": [
       "254159"
      ]
     },
     "execution_count": 13,
     "metadata": {},
     "output_type": "execute_result"
    }
   ],
   "source": [
    "deletedDF = spark.read.format(\"delta\").load(\"/tmp/output/experimentodelta10\")\n",
    "deletedDF.count()\n",
    "# Resultado deve ser 254159."
   ]
  },
  {
   "cell_type": "code",
   "execution_count": 14,
   "id": "c6115d21-f334-460b-9d00-c3f97b519a70",
   "metadata": {},
   "outputs": [
    {
     "name": "stderr",
     "output_type": "stream",
     "text": [
      "[Stage 286:>                                                        (0 + 1) / 1]\r"
     ]
    },
    {
     "name": "stdout",
     "output_type": "stream",
     "text": [
      "Overwrite done!\n",
      "Vá no TablePlus, aperte command + r e busque o item Order_ID == 451691138\n"
     ]
    },
    {
     "name": "stderr",
     "output_type": "stream",
     "text": [
      "                                                                                \r"
     ]
    }
   ],
   "source": [
    "save_data_to_database(deletedDF, \"sales\", True, False) #Overwrite = True; Append = False\n",
    "print(\"Vá no TablePlus, aperte command + r e busque o item Order_ID == 451691138\")"
   ]
  },
  {
   "cell_type": "markdown",
   "id": "53aa1aa2-97a8-4e37-a12a-6be5af46f6b5",
   "metadata": {},
   "source": [
    "#### Inserir Apenas o Conjunto de Dados Excluídos no Passo Anterior"
   ]
  },
  {
   "cell_type": "code",
   "execution_count": 15,
   "id": "3c4be085-3be9-42ec-b4b5-71b5374729aa",
   "metadata": {},
   "outputs": [
    {
     "name": "stderr",
     "output_type": "stream",
     "text": [
      "                                                                                \r"
     ]
    },
    {
     "data": {
      "text/plain": [
       "254160"
      ]
     },
     "execution_count": 15,
     "metadata": {},
     "output_type": "execute_result"
    }
   ],
   "source": [
    "check_versions = spark.read.format(\"delta\").option(\"versionAsOf\", 0).load(\"/tmp/output/experimentodelta10\")\n",
    "check_versions.count()\n",
    "# Resultado será 254160."
   ]
  },
  {
   "cell_type": "code",
   "execution_count": 16,
   "id": "9668f917-b857-4147-9034-c399c5374ab8",
   "metadata": {},
   "outputs": [
    {
     "data": {
      "text/plain": [
       "1"
      ]
     },
     "execution_count": 16,
     "metadata": {},
     "output_type": "execute_result"
    }
   ],
   "source": [
    "df_final = check_versions.where(check_versions.Order_ID == 451691138)\n",
    "df_final.count()\n",
    "# Resultado será 1."
   ]
  },
  {
   "cell_type": "code",
   "execution_count": 18,
   "id": "fc219f27-aaf4-471f-8671-3e0bb0e61d7d",
   "metadata": {},
   "outputs": [],
   "source": [
    "price_col = \"Unit_Price\"\n",
    "sold_col = \"Units_Sold\"\n",
    "price = 421\n",
    "sold = 4310"
   ]
  },
  {
   "cell_type": "code",
   "execution_count": 17,
   "id": "c04f3fb2-df02-42e2-9378-26b8f555ef00",
   "metadata": {},
   "outputs": [
    {
     "name": "stdout",
     "output_type": "stream",
     "text": [
      "Saved with append\n",
      "Vá no TablePlus, aperte command + r e busque o item Order_ID == 451691138\n"
     ]
    }
   ],
   "source": [
    "save_data_to_database(df_final, \"sales\", False, True) #Overwrite = False; Append = True\n",
    "print(\"Vá no TablePlus, aperte command + r e busque o item Order_ID == 451691138\")\n",
    "print(f\"Ao fazer a query, os valores de {price_col} e {sold_col} serao, respectivamente, {price} e {sold}\")"
   ]
  },
  {
   "cell_type": "markdown",
   "id": "8ad20b30-833e-4d28-979a-c633794fd5d9",
   "metadata": {},
   "source": [
    "#### Retornar Todos os Dados Para a Versão Inicial e Salvar no Banco de Dados"
   ]
  },
  {
   "cell_type": "code",
   "execution_count": null,
   "id": "3eff212c-67c1-4060-8d3e-97d000ac22c0",
   "metadata": {},
   "outputs": [],
   "source": [
    "history = spark.sql(\"DESCRIBE HISTORY delta.`/tmp/output/experimentodelta10`\")\n",
    "latest_version = history.selectExpr(\"max(version)\").collect()\n",
    "print(latest_version[0][0])"
   ]
  },
  {
   "cell_type": "code",
   "execution_count": null,
   "id": "3c891ac8-ff97-41b4-89c4-0af9931fc864",
   "metadata": {},
   "outputs": [],
   "source": [
    "df = spark.read.format(\"delta\").option(\"versionAsOf\", 0).load(\"/tmp/output/experimentodelta\")\n",
    "df.where(df.Order_ID == 451691138).count()"
   ]
  },
  {
   "cell_type": "code",
   "execution_count": null,
   "id": "ec12a22b-3315-4870-a0ac-be80d26f0ed3",
   "metadata": {},
   "outputs": [],
   "source": [
    "save_data_to_database(df, \"sales\", True, False) #Overwrite = True; Append = False"
   ]
  },
  {
   "cell_type": "markdown",
   "id": "6fea8ece-ebc4-4329-badd-be125f1a53b9",
   "metadata": {},
   "source": [
    "## [Experimento 2] Experimento com 100 Repetições"
   ]
  },
  {
   "cell_type": "markdown",
   "id": "997733b1-721a-46a2-bfe4-80c0c0f61112",
   "metadata": {},
   "source": [
    "#### Salvar os Dados em uma Pasta Temporária"
   ]
  },
  {
   "cell_type": "code",
   "execution_count": 19,
   "id": "7a71f49a-9b7f-435e-a40c-077702097927",
   "metadata": {},
   "outputs": [
    {
     "name": "stderr",
     "output_type": "stream",
     "text": [
      "                                                                                \r"
     ]
    }
   ],
   "source": [
    "dataf.write.format(\"delta\").save(\"/tmp/output/experimentodelta100\")"
   ]
  },
  {
   "cell_type": "markdown",
   "id": "5b1b53d7-e42f-42b6-9f81-c1c20544489b",
   "metadata": {},
   "source": [
    "#### Execução do Experimento"
   ]
  },
  {
   "cell_type": "code",
   "execution_count": 20,
   "id": "ceb34958-d9c8-4081-ac17-369a80abfc88",
   "metadata": {
    "tags": []
   },
   "outputs": [
    {
     "name": "stderr",
     "output_type": "stream",
     "text": [
      "                                                                                \r"
     ]
    },
    {
     "name": "stdout",
     "output_type": "stream",
     "text": [
      "700.8368561267853\n"
     ]
    }
   ],
   "source": [
    "teste = DeltaTable.forPath(spark, \"/tmp/output/experimentodelta100\")\n",
    "start = time.time()\n",
    "for i in range(100):\n",
    "    teste.update(\n",
    "        condition = PSF.expr(\"Order_ID == 451691138\"),\n",
    "        set = { \"Unit_Price\": PSF.expr(\"Unit_Price + 1\")\n",
    "    }),\n",
    "    teste.update(\n",
    "        condition = PSF.expr(\"Order_ID == 451691138\"),\n",
    "        set = { \"Units_Sold\": PSF.expr(\"Units_Sold + 1\")\n",
    "    })\n",
    "end = time.time()\n",
    "print(end - start)"
   ]
  },
  {
   "cell_type": "markdown",
   "id": "8e785d6e-967f-4c23-acae-5702792ccd6d",
   "metadata": {},
   "source": [
    "#### Salvar as Informações Alteradas no Banco de Dados"
   ]
  },
  {
   "cell_type": "code",
   "execution_count": 22,
   "id": "dc76d59e-58fd-4d5b-921e-b4717778370b",
   "metadata": {},
   "outputs": [],
   "source": [
    "parDF = spark.read.format(\"delta\").load(\"/tmp/output/experimentodelta100\")"
   ]
  },
  {
   "cell_type": "code",
   "execution_count": 23,
   "id": "73b3df86-60e6-49f8-a31f-871b5ce7c3d1",
   "metadata": {},
   "outputs": [],
   "source": [
    "price_value100 = 521\n",
    "sold_value100 = 4400\n",
    "price_col100 = \"Unit_Price\"\n",
    "sold_col100 = \"Units_Sold\""
   ]
  },
  {
   "cell_type": "code",
   "execution_count": 24,
   "id": "ec4197bd-894d-4a45-8d78-44a190efb6c6",
   "metadata": {},
   "outputs": [
    {
     "name": "stderr",
     "output_type": "stream",
     "text": [
      "[Stage 2815:>                                                       (0 + 1) / 1]\r"
     ]
    },
    {
     "name": "stdout",
     "output_type": "stream",
     "text": [
      "Saved with append\n",
      "23.30550193786621\n",
      "Vá no TablePlus, aperte command + r e busque o item Order_ID == 451691138\n",
      "Ao fazer a query, os valores de Unit_Price e Units_Sold serao, respectivamente, 521 e 4400\n"
     ]
    },
    {
     "name": "stderr",
     "output_type": "stream",
     "text": [
      "                                                                                \r"
     ]
    }
   ],
   "source": [
    "start = time.time()\n",
    "save_data_to_database(parDF, \"sales\", False, True)\n",
    "end = time.time()\n",
    "print(end - start)\n",
    "print(\"Vá no TablePlus, aperte command + r e busque o item Order_ID == 451691138\")\n",
    "print(f\"Ao fazer a query, os valores de {price_col100} e {sold_col100} serao, respectivamente, {price_value100} e {sold_value100}.\")\n",
    "# Units_Sold = 4400\n",
    "# Unit_Price = 521"
   ]
  },
  {
   "cell_type": "markdown",
   "id": "9bb997a3-bf98-4cec-a848-ad9318867b09",
   "metadata": {},
   "source": [
    "#### Deletar um Order_ID e Salvar no Banco de Dados"
   ]
  },
  {
   "cell_type": "code",
   "execution_count": 25,
   "id": "8e010429-798a-4ab0-81c5-2dc0fc987f0c",
   "metadata": {},
   "outputs": [
    {
     "name": "stderr",
     "output_type": "stream",
     "text": [
      "                                                                                \r"
     ]
    }
   ],
   "source": [
    "deleting = DeltaTable.forPath(spark, \"/tmp/output/experimentodelta100\")\n",
    "deleting.delete(PSF.col('Order_ID') == 451691138)"
   ]
  },
  {
   "cell_type": "code",
   "execution_count": 26,
   "id": "b83994ed-6ac6-4f78-b608-6a0ac1a108bd",
   "metadata": {},
   "outputs": [
    {
     "data": {
      "text/plain": [
       "254159"
      ]
     },
     "execution_count": 26,
     "metadata": {},
     "output_type": "execute_result"
    }
   ],
   "source": [
    "deletedDF = spark.read.format(\"delta\").load(\"/tmp/output/experimentodelta100\")\n",
    "deletedDF.count()\n",
    "# Resultado será 0"
   ]
  },
  {
   "cell_type": "code",
   "execution_count": 27,
   "id": "907e4943-955c-44ad-8a26-18f6c7edc965",
   "metadata": {},
   "outputs": [
    {
     "name": "stderr",
     "output_type": "stream",
     "text": [
      "[Stage 2835:>                                                       (0 + 1) / 1]\r"
     ]
    },
    {
     "name": "stdout",
     "output_type": "stream",
     "text": [
      "Overwrite done!\n",
      "Vá no TablePlus, aperte command + r e busque o item Order_ID == 451691138\n"
     ]
    },
    {
     "name": "stderr",
     "output_type": "stream",
     "text": [
      "                                                                                \r"
     ]
    }
   ],
   "source": [
    "save_data_to_database(deletedDF, \"sales\", True, False) #Overwrite = True; Append = False\n",
    "print(\"Vá no TablePlus, aperte command + r e busque o item Order_ID == 451691138\")"
   ]
  },
  {
   "cell_type": "markdown",
   "id": "241b4d1f-a6a1-48a5-bd60-0c493c0e8b61",
   "metadata": {},
   "source": [
    "#### Inserir Apenas o Conjunto de Dados Excluídos no Passo Anterior"
   ]
  },
  {
   "cell_type": "code",
   "execution_count": 28,
   "id": "23f8f723-3d53-4769-bbd5-1290a0169ea3",
   "metadata": {},
   "outputs": [
    {
     "name": "stderr",
     "output_type": "stream",
     "text": [
      "                                                                                \r"
     ]
    },
    {
     "data": {
      "text/plain": [
       "254160"
      ]
     },
     "execution_count": 28,
     "metadata": {},
     "output_type": "execute_result"
    }
   ],
   "source": [
    "check_versions = spark.read.format(\"delta\").option(\"versionAsOf\", 0).load(\"/tmp/output/experimentodelta100\")\n",
    "check_versions.count()"
   ]
  },
  {
   "cell_type": "code",
   "execution_count": 29,
   "id": "2733b759-559e-45f1-9ac2-a7531e030219",
   "metadata": {},
   "outputs": [
    {
     "data": {
      "text/plain": [
       "1"
      ]
     },
     "execution_count": 29,
     "metadata": {},
     "output_type": "execute_result"
    }
   ],
   "source": [
    "df_final = check_versions.where(check_versions.Order_ID == 451691138)\n",
    "df_final.count()\n",
    "# Resultado será 1."
   ]
  },
  {
   "cell_type": "code",
   "execution_count": 30,
   "id": "bcaa2b17-9750-416c-844d-023f64da9ab4",
   "metadata": {},
   "outputs": [
    {
     "name": "stdout",
     "output_type": "stream",
     "text": [
      "Saved with append\n",
      "Vá no TablePlus, aperte command + r e busque o item Order_ID == 451691138\n"
     ]
    }
   ],
   "source": [
    "save_data_to_database(df_final, \"sales\", False, True) #Overwrite = False; Append = True\n",
    "print(\"Vá no TablePlus, aperte command + r e busque o item Order_ID == 451691138\")"
   ]
  },
  {
   "cell_type": "markdown",
   "id": "cbabed29-8cee-4260-9710-71a82160a089",
   "metadata": {},
   "source": [
    "#### Retornar os Dados Para a Versão Inicial e Salvar no Banco de Dados"
   ]
  },
  {
   "cell_type": "code",
   "execution_count": null,
   "id": "a39c33d5-3316-430a-b014-e6a072839cea",
   "metadata": {},
   "outputs": [],
   "source": [
    "history = spark.sql(\"DESCRIBE HISTORY delta.`/tmp/output/experimentodelta100`\")\n",
    "latest_version = history.selectExpr(\"max(version)\").collect()\n",
    "print(latest_version[0][0])"
   ]
  },
  {
   "cell_type": "code",
   "execution_count": null,
   "id": "7bf8a660-e793-41b7-9106-8c7768bd9ada",
   "metadata": {},
   "outputs": [],
   "source": [
    "df = spark.read.format(\"delta\").option(\"versionAsOf\", 0).load(\"/tmp/output/experimentodelta100\")\n",
    "df.where(df.Order_ID == 451691138).count()"
   ]
  },
  {
   "cell_type": "code",
   "execution_count": null,
   "id": "2d21ed5b-15d0-458c-abba-1bc0c68c949d",
   "metadata": {},
   "outputs": [],
   "source": [
    "save_data_to_database(df, \"sales\", True, False) #Overwrite = True; Append = False"
   ]
  },
  {
   "cell_type": "markdown",
   "id": "b40b3c94-3e5d-4543-8964-f7b978520838",
   "metadata": {},
   "source": [
    "## [Experimento 3] Experimento com 1000 Repetições"
   ]
  },
  {
   "cell_type": "markdown",
   "id": "3ca58dc8-0360-49d2-b5d3-ce7ddd473c5e",
   "metadata": {},
   "source": [
    "#### Salvar os Dados em uma Pasta Temporária"
   ]
  },
  {
   "cell_type": "code",
   "execution_count": null,
   "id": "67895ccd-c9f3-4f3d-befd-f8fe45dbf793",
   "metadata": {},
   "outputs": [],
   "source": [
    "dataf.write.format(\"delta\").save(\"/tmp/output/experimentodelta1000\")"
   ]
  },
  {
   "cell_type": "markdown",
   "id": "540f16eb-c4c6-4cc6-a061-842c5a00e235",
   "metadata": {},
   "source": [
    "#### Execução do Experimento"
   ]
  },
  {
   "cell_type": "code",
   "execution_count": 75,
   "id": "a56018e9-e7ca-4bf2-95ad-b9f05cd7deff",
   "metadata": {},
   "outputs": [
    {
     "name": "stderr",
     "output_type": "stream",
     "text": [
      "                                                                                \r"
     ]
    },
    {
     "name": "stdout",
     "output_type": "stream",
     "text": [
      "11.589659929275513\n"
     ]
    }
   ],
   "source": [
    "teste = DeltaTable.forPath(spark, \"/tmp/output/experimentodelta1000\")\n",
    "start = time.time()\n",
    "for i in range(1000):\n",
    "    teste.update(\n",
    "        condition = PSF.expr(\"Order_ID == 451691138\"),\n",
    "        set = { \"Unit_Price\": PSF.expr(\"Unit_Price + 1\")\n",
    "    }),\n",
    "    teste.update(\n",
    "        condition = PSF.expr(\"Order_ID == 451691138\"),\n",
    "        set = { \"Units_Sold\": PSF.expr(\"Units_Sold + 1\")\n",
    "    })\n",
    "end = time.time()\n",
    "print(end - start)"
   ]
  },
  {
   "cell_type": "markdown",
   "id": "cd684233-1eb1-4d8c-83f0-7618e49aae5d",
   "metadata": {},
   "source": [
    "#### Salvar as Informações Alteradas no Banco de Dados"
   ]
  },
  {
   "cell_type": "code",
   "execution_count": null,
   "id": "2945cb0a-daa7-4822-b648-4ff36b6f1d95",
   "metadata": {},
   "outputs": [],
   "source": [
    "parDF = spark.read.format(\"delta\").load(\"/tmp/output/experimentodelta1000\")"
   ]
  },
  {
   "cell_type": "code",
   "execution_count": null,
   "id": "57e8fd77-8de2-4797-8ccc-95334829430b",
   "metadata": {},
   "outputs": [],
   "source": [
    "price_value1000 = 1421\n",
    "sold_value1000 = 5300\n",
    "price_col1000 = \"Unit_Price\"\n",
    "sold_col1000 = \"Units_Sold\""
   ]
  },
  {
   "cell_type": "code",
   "execution_count": null,
   "id": "ff816bb5-1341-4e7c-92b6-dd11bc379a80",
   "metadata": {},
   "outputs": [],
   "source": [
    "start = time.time()\n",
    "save_data_to_database(parDF, \"sales\", False, True)\n",
    "end = time.time()\n",
    "print(end - start)\n",
    "print(\"Vá no TablePlus, aperte command + r e busque o item Order_ID == 451691138\")\n",
    "print(f\"Ao fazer a query, os valores de {price_col1000} e {sold_col1000} serao, respectivamente, {price_value1000} e {sold_value1000}.\")\n",
    "# Units_Sold = 5300\n",
    "# Unit_Price = 1421"
   ]
  },
  {
   "cell_type": "markdown",
   "id": "d7ac80cf-7f3e-4478-acd8-37923f76110b",
   "metadata": {},
   "source": [
    "#### Deletar um Order_ID e Salvar no Banco de Dados"
   ]
  },
  {
   "cell_type": "code",
   "execution_count": null,
   "id": "1299252f-715f-4be4-a165-16cd6e0dc6ad",
   "metadata": {},
   "outputs": [],
   "source": [
    "deleting = DeltaTable.forPath(spark, \"/tmp/output/experimentodelta1000\")\n",
    "deleting.delete(PSF.col('Order_ID') == 451691138)"
   ]
  },
  {
   "cell_type": "code",
   "execution_count": null,
   "id": "56836a22-c517-41df-973e-1bc4d9e14906",
   "metadata": {},
   "outputs": [],
   "source": [
    "deletedDF = spark.read.format(\"delta\").load(\"/tmp/output/experimentodelta1000\")\n",
    "deletedDF.count()\n",
    "# Resultado será 0."
   ]
  },
  {
   "cell_type": "code",
   "execution_count": null,
   "id": "1cec75b5-b49a-4033-9c76-2acceff4c466",
   "metadata": {},
   "outputs": [],
   "source": [
    "save_data_to_database(deletedDF, \"sales\", True, False) #Overwrite = True; Append = False\n",
    "print(\"Vá no TablePlus, aperte command + r e busque o item Order_ID == 451691138\")"
   ]
  },
  {
   "cell_type": "markdown",
   "id": "dfc1a919-a441-467d-b543-dfe263631015",
   "metadata": {},
   "source": [
    "#### Inserir Apenas o Conjunto de Dados Excluídos no Passo Anterior"
   ]
  },
  {
   "cell_type": "code",
   "execution_count": null,
   "id": "b26ab871-59d0-4c9a-b38c-65d1bd0a815c",
   "metadata": {},
   "outputs": [],
   "source": [
    "check_versions = spark.read.format(\"delta\").option(\"versionAsOf\", 0).load(\"/tmp/output/experimentodelta1000\")\n",
    "check_versions.count()"
   ]
  },
  {
   "cell_type": "code",
   "execution_count": null,
   "id": "d7e3fdc8-9aed-4f42-89e6-e8b27e8d51b6",
   "metadata": {},
   "outputs": [],
   "source": [
    "df_final = check_versions.where(check_versions.Order_ID == 451691138)\n",
    "df_final.count()\n",
    "# Resultado será 1."
   ]
  },
  {
   "cell_type": "code",
   "execution_count": null,
   "id": "c1ae4526-e7d3-46cc-9ed0-f3d6101320ed",
   "metadata": {},
   "outputs": [],
   "source": [
    "save_data_to_database(df_final, \"sales\", False, True) #Overwrite = False; Append = True\n",
    "print(\"Vá no TablePlus, aperte command + r e busque o item Order_ID == 451691138\")"
   ]
  },
  {
   "cell_type": "markdown",
   "id": "4f81b762-920b-4eac-aab8-148f32b86cb2",
   "metadata": {},
   "source": [
    "#### Retornar os Dados Para a Versão Inicial e Salvar no Banco de Dados"
   ]
  },
  {
   "cell_type": "code",
   "execution_count": null,
   "id": "26475b16-f369-49bb-aa11-22f1fdd77ae1",
   "metadata": {},
   "outputs": [],
   "source": [
    "history = spark.sql(\"DESCRIBE HISTORY delta.`/tmp/output/experimentodelta1000`\")\n",
    "latest_version = history.selectExpr(\"max(version)\").collect()\n",
    "print(latest_version[0][0])"
   ]
  },
  {
   "cell_type": "code",
   "execution_count": null,
   "id": "5ee1b20e-c221-41d1-98c4-bcb99b481227",
   "metadata": {},
   "outputs": [],
   "source": [
    "df = spark.read.format(\"delta\").option(\"versionAsOf\", 0).load(\"/tmp/output/experimentodelta1000\")\n",
    "df.where(df.Order_ID == 451691138).count()"
   ]
  },
  {
   "cell_type": "code",
   "execution_count": null,
   "id": "c66fd0a9-7b60-4dcd-b7a3-14f259a2771e",
   "metadata": {},
   "outputs": [],
   "source": [
    "save_data_to_database(df, \"sales\", True, False) #Overwrite = True; Append = False"
   ]
  }
 ],
 "metadata": {
  "kernelspec": {
   "display_name": "Python 3 (ipykernel)",
   "language": "python",
   "name": "python3"
  },
  "language_info": {
   "codemirror_mode": {
    "name": "ipython",
    "version": 3
   },
   "file_extension": ".py",
   "mimetype": "text/x-python",
   "name": "python",
   "nbconvert_exporter": "python",
   "pygments_lexer": "ipython3",
   "version": "3.9.12"
  }
 },
 "nbformat": 4,
 "nbformat_minor": 5
}
