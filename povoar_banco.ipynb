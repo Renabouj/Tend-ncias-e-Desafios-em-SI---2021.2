{
 "cells": [
  {
   "cell_type": "code",
   "execution_count": 1,
   "id": "204972cb-3d01-4cc4-8e6b-c02a52dc555e",
   "metadata": {},
   "outputs": [],
   "source": [
    "import pyspark\n",
    "from pyspark.sql import SparkSession\n",
    "from pyspark.sql import Row\n",
    "from delta.tables import *\n",
    "from delta import *\n",
    "import pyspark.sql.functions as PSF\n",
    "import psycopg2\n",
    "import pandas as pd\n",
    "import os"
   ]
  },
  {
   "cell_type": "code",
   "execution_count": 8,
   "id": "52613b5f-8df3-4657-bb89-8081ba31413b",
   "metadata": {},
   "outputs": [
    {
     "name": "stdout",
     "output_type": "stream",
     "text": [
      "/Users/renabouj/Downloads/postgresql-42.3.5.jar\n"
     ]
    }
   ],
   "source": [
    "env_vars = !cat Script/.env\n",
    "for var in env_vars:\n",
    "    key, value = var.split('=')\n",
    "    os.environ[key] = value"
   ]
  },
  {
   "cell_type": "code",
   "execution_count": 9,
   "id": "cb441461-997e-4d6b-8627-1bd1aa1a4539",
   "metadata": {},
   "outputs": [
    {
     "name": "stderr",
     "output_type": "stream",
     "text": [
      "22/05/16 17:25:10 WARN Utils: Your hostname, MacBook-Pro-de-Renato.local resolves to a loopback address: 127.0.0.1; using 10.0.0.102 instead (on interface en0)\n",
      "22/05/16 17:25:10 WARN Utils: Set SPARK_LOCAL_IP if you need to bind to another address\n"
     ]
    },
    {
     "name": "stdout",
     "output_type": "stream",
     "text": [
      ":: loading settings :: url = jar:file:/Users/renabouj/Codes/tendenciasSI/env/lib/python3.9/site-packages/pyspark/jars/ivy-2.5.0.jar!/org/apache/ivy/core/settings/ivysettings.xml\n"
     ]
    },
    {
     "name": "stderr",
     "output_type": "stream",
     "text": [
      "Ivy Default Cache set to: /Users/renabouj/.ivy2/cache\n",
      "The jars for the packages stored in: /Users/renabouj/.ivy2/jars\n",
      "io.delta#delta-core_2.12 added as a dependency\n",
      ":: resolving dependencies :: org.apache.spark#spark-submit-parent-4c4841db-1253-4d00-a36c-25d1e103bc49;1.0\n",
      "\tconfs: [default]\n",
      "\tfound io.delta#delta-core_2.12;1.2.1 in central\n",
      "\tfound io.delta#delta-storage;1.2.1 in central\n",
      "\tfound org.antlr#antlr4-runtime;4.8 in central\n",
      "\tfound org.codehaus.jackson#jackson-core-asl;1.9.13 in central\n",
      ":: resolution report :: resolve 216ms :: artifacts dl 7ms\n",
      "\t:: modules in use:\n",
      "\tio.delta#delta-core_2.12;1.2.1 from central in [default]\n",
      "\tio.delta#delta-storage;1.2.1 from central in [default]\n",
      "\torg.antlr#antlr4-runtime;4.8 from central in [default]\n",
      "\torg.codehaus.jackson#jackson-core-asl;1.9.13 from central in [default]\n",
      "\t---------------------------------------------------------------------\n",
      "\t|                  |            modules            ||   artifacts   |\n",
      "\t|       conf       | number| search|dwnlded|evicted|| number|dwnlded|\n",
      "\t---------------------------------------------------------------------\n",
      "\t|      default     |   4   |   0   |   0   |   0   ||   4   |   0   |\n",
      "\t---------------------------------------------------------------------\n",
      ":: retrieving :: org.apache.spark#spark-submit-parent-4c4841db-1253-4d00-a36c-25d1e103bc49\n",
      "\tconfs: [default]\n",
      "\t0 artifacts copied, 4 already retrieved (0kB/6ms)\n",
      "22/05/16 17:25:11 WARN NativeCodeLoader: Unable to load native-hadoop library for your platform... using builtin-java classes where applicable\n",
      "Using Spark's default log4j profile: org/apache/spark/log4j-defaults.properties\n",
      "Setting default log level to \"WARN\".\n",
      "To adjust logging level use sc.setLogLevel(newLevel). For SparkR, use setLogLevel(newLevel).\n"
     ]
    }
   ],
   "source": [
    "builder = pyspark.sql.SparkSession.builder.appName(\"PySpark_Postgres_test\").config(\"spark.jars\", os.environ.get('SPARKJAR')).config(\"spark.sql.extensions\", \"io.delta.sql.DeltaSparkSessionExtension\").config(\"spark.sql.catalog.spark_catalog\", \"org.apache.spark.sql.delta.catalog.DeltaCatalog\").master(\"local\").appName(\"PySpark_Postgres_test\")\n",
    "\n",
    "spark = configure_spark_with_delta_pip(builder).getOrCreate()"
   ]
  },
  {
   "cell_type": "code",
   "execution_count": 10,
   "id": "23e95966-29a0-4c9d-b4d7-8a95a097386b",
   "metadata": {},
   "outputs": [],
   "source": [
    "dataf = spark.read.format(\"jdbc\").option(\"url\", os.environ.get('DB_CONNECTION_STRING')) \\\n",
    "    .option(\"driver\", \"org.postgresql.Driver\").option(\"dbtable\", \"sales2\") \\\n",
    "    .option(\"user\", os.environ.get('USER')).option(\"password\", os.environ.get('PASSWORD')).load()"
   ]
  },
  {
   "cell_type": "code",
   "execution_count": 12,
   "id": "a420bfad-b285-4a24-a734-2debfabe7c75",
   "metadata": {},
   "outputs": [
    {
     "name": "stderr",
     "output_type": "stream",
     "text": [
      "[Stage 0:>                                                          (0 + 1) / 1]\r"
     ]
    },
    {
     "name": "stdout",
     "output_type": "stream",
     "text": [
      "+--------------------+---------+---------+-------------+--------------+----------+---------+---------+----------+----------+---------+-------------+----------+------------+\n",
      "|              Region|  Country|Item_Type|Sales_Channel|Order_Priority|Order_Date| Order_ID|Ship_Date|Units_Sold|Unit_Price|Unit_Cost|Total_Revenue|Total_Cost|Total_Profit|\n",
      "+--------------------+---------+---------+-------------+--------------+----------+---------+---------+----------+----------+---------+-------------+----------+------------+\n",
      "|Australia and Oce...|Australia|     Meat|       Online|             C|  4/4/2011|451691138|5/23/2011|      3300|       500|      364|      1814127|   1568167|      245960|\n",
      "+--------------------+---------+---------+-------------+--------------+----------+---------+---------+----------+----------+---------+-------------+----------+------------+\n",
      "\n"
     ]
    },
    {
     "name": "stderr",
     "output_type": "stream",
     "text": [
      "                                                                                \r"
     ]
    }
   ],
   "source": [
    "dataf.where(dataf.Order_ID == 451691138).show()"
   ]
  },
  {
   "cell_type": "code",
   "execution_count": 3,
   "id": "9244f69a-1fc2-40a8-9646-3809ee08d40d",
   "metadata": {},
   "outputs": [
    {
     "name": "stderr",
     "output_type": "stream",
     "text": [
      "                                                                                \r"
     ]
    },
    {
     "name": "stdout",
     "output_type": "stream",
     "text": [
      "+--------------------+--------------------+-------------+-------------+--------------+----------+---------+----------+----------+----------+---------+-------------+----------+------------+\n",
      "|              Region|             Country|    Item_Type|Sales_Channel|Order_Priority|Order_Date| Order_ID| Ship_Date|Units_Sold|Unit_Price|Unit_Cost|Total_Revenue|Total_Cost|Total_Profit|\n",
      "+--------------------+--------------------+-------------+-------------+--------------+----------+---------+----------+----------+----------+---------+-------------+----------+------------+\n",
      "|Australia and Oce...|           Australia|         Meat|       Online|             C|  4/4/2011|451691138| 5/23/2011|      4300|       421|      364|      1814127|   1568167|      245960|\n",
      "|                Asia|          Tajikistan|Personal Care|       Online|             L| 7/12/2018|144177377|  8/1/2018|      4145|        81|       56|       338770|    234897|      103873|\n",
      "|  Sub-Saharan Africa|          Mozambique|    Cosmetics|       Online|             H|  7/6/2011|982716166| 7/17/2011|      6407|       437|      263|      2801140|   1687155|     1113985|\n",
      "|Central America a...|              Panama|Personal Care|      Offline|             L|  5/1/2011|784543836| 5/11/2011|      2810|        81|       56|       229661|    159242|       70418|\n",
      "|       North America|              Canada|       Fruits|       Online|             H|11/15/2013|137209212|12/29/2013|      2110|         9|        6|        19686|     14601|        5085|\n",
      "|              Europe|               Italy|       Fruits|      Offline|             C| 7/16/2016|148573625| 7/18/2016|      5092|         9|        6|        47508|     35236|       12271|\n",
      "|              Europe|             Romania|    Beverages|      Offline|             C|11/15/2012|196810901| 12/1/2012|      9574|        47|       31|       454286|    304357|      149928|\n",
      "|Australia and Oce...|           Australia|    Cosmetics|      Offline|             L| 4/30/2019|180407369| 5/25/2019|      5404|       437|      263|      2362628|   1423035|      939593|\n",
      "|              Europe|Bosnia and Herzeg...|    Cosmetics|      Offline|             C| 5/29/2016|968161857|  6/8/2016|      9463|       437|      263|      4137223|   2491891|     1645331|\n",
      "|                Asia|               Japan|      Clothes|       Online|             M| 3/25/2018|349185693|  4/8/2018|       661|       109|       35|        72234|     23690|       48543|\n",
      "|Australia and Oce...|    Papua New Guinea|    Beverages|       Online|             H| 8/28/2013|682902705| 9/18/2013|      4941|        47|       31|       234450|    157074|       77376|\n",
      "|  Sub-Saharan Africa|          Madagascar|       Fruits|       Online|             L| 6/17/2014|349049222| 7/10/2014|       276|         9|        6|         2575|      1909|         665|\n",
      "|Central America a...|Saint Kitts and N...|Personal Care|       Online|             H|11/11/2017|497674071|11/16/2017|      1672|        81|       56|       136652|     94752|       41900|\n",
      "|              Europe|            Slovakia|         Meat|       Online|             M|11/26/2011|999138581|12/10/2011|      6164|       421|      364|      2600529|   2247949|      352580|\n",
      "|  Sub-Saharan Africa|             Eritrea|         Meat|      Offline|             H| 11/9/2012|894116580|12/13/2012|      7820|       421|      364|      3299179|   2851875|      447304|\n",
      "|  Sub-Saharan Africa|            Botswana|       Cereal|       Online|             M| 2/11/2017|643594396| 2/24/2017|      2739|       205|      117|       563412|    320764|      242648|\n",
      "|Australia and Oce...|Federated States ...|    Household|      Offline|             C| 3/25/2017|778870856|  5/3/2017|      4049|       668|      502|      2705825|   2034784|      671040|\n",
      "|                Asia|          Uzbekistan|         Meat|      Offline|             M|12/11/2017|551557290|12/20/2017|      6914|       421|      364|      2916947|   2521466|      395480|\n",
      "|Middle East and N...|              Jordan|    Beverages|      Offline|             M| 2/29/2020|183577525| 3/13/2020|      3524|        47|       31|       167213|    112027|       55185|\n",
      "|Australia and Oce...|Federated States ...|       Snacks|      Offline|             H|  8/6/2015|417167890|  8/8/2015|      8104|       152|       97|      1236508|    789653|      446854|\n",
      "+--------------------+--------------------+-------------+-------------+--------------+----------+---------+----------+----------+----------+---------+-------------+----------+------------+\n",
      "only showing top 20 rows\n",
      "\n"
     ]
    }
   ],
   "source": [
    "dataf = spark.read.format(\"csv\").option(\"delimiter\", \",\").option(\"header\", \"true\").option(\"inferSchema\", \"true\") \\\n",
    "        .load(\"data/200ksales.csv\")\n",
    "dataf.show()"
   ]
  },
  {
   "cell_type": "code",
   "execution_count": 4,
   "id": "c0d50c03-968a-4685-bb91-87923c4bb6b4",
   "metadata": {},
   "outputs": [
    {
     "data": {
      "text/plain": [
       "['Region',\n",
       " 'Country',\n",
       " 'Item_Type',\n",
       " 'Sales_Channel',\n",
       " 'Order_Priority',\n",
       " 'Order_Date',\n",
       " 'Order_ID',\n",
       " 'Ship_Date',\n",
       " 'Units_Sold',\n",
       " 'Unit_Price',\n",
       " 'Unit_Cost',\n",
       " 'Total_Revenue',\n",
       " 'Total_Cost',\n",
       " 'Total_Profit']"
      ]
     },
     "execution_count": 4,
     "metadata": {},
     "output_type": "execute_result"
    }
   ],
   "source": [
    "dataf.columns"
   ]
  },
  {
   "cell_type": "code",
   "execution_count": 5,
   "id": "dab8cb38-930b-41f0-97c7-c224697ceab2",
   "metadata": {},
   "outputs": [
    {
     "data": {
      "text/plain": [
       "254160"
      ]
     },
     "execution_count": 5,
     "metadata": {},
     "output_type": "execute_result"
    }
   ],
   "source": [
    "dataf.count()"
   ]
  },
  {
   "cell_type": "code",
   "execution_count": 17,
   "id": "53da5c47-9194-42e6-8a79-31d8ea530cc3",
   "metadata": {},
   "outputs": [],
   "source": [
    "lista_de_colunas_inteiro = [\"Units_Sold\", \"Unit_Price\", \"Unit_Cost\", \"Total_Revenue\", \"Total_Cost\", \"Total_Profit\"]"
   ]
  },
  {
   "cell_type": "code",
   "execution_count": 27,
   "id": "bbed120c-432a-4f7b-a048-04d3c1de3184",
   "metadata": {
    "tags": []
   },
   "outputs": [],
   "source": [
    "def convert_data_types(df):\n",
    "    df = df.withColumn(\"Units_Sold\", df.Units_Sold.cast('bigint'))\n",
    "    df = df.withColumn(\"Unit_Price\", df.Unit_Price.cast('bigint'))\n",
    "    df = df.withColumn(\"Unit_Cost\", df.Unit_Cost.cast('bigint'))\n",
    "    df = df.withColumn(\"Total_Revenue\", df.Total_Revenue.cast('bigint'))\n",
    "    df = df.withColumn(\"Total_Cost\", df.Total_Cost.cast('bigint'))\n",
    "    df = df.withColumn(\"Total_Profit\", df.Total_Profit.cast('bigint'))\n",
    "    return df"
   ]
  },
  {
   "cell_type": "code",
   "execution_count": 9,
   "id": "143e76a3-c6d3-421c-8cfa-bbc5eef880a2",
   "metadata": {},
   "outputs": [],
   "source": [
    "def convert_data_types(df, columns_list):\n",
    "    for column_name in columns_list:\n",
    "        df.select(PSF.col(column_name).cast('bigint').alias(column_name))\n",
    "    return df"
   ]
  },
  {
   "cell_type": "code",
   "execution_count": 10,
   "id": "63c1433a-30cf-4982-bbbe-64e043343fd5",
   "metadata": {},
   "outputs": [
    {
     "name": "stdout",
     "output_type": "stream",
     "text": [
      "root\n",
      " |-- Region: string (nullable = true)\n",
      " |-- Country: string (nullable = true)\n",
      " |-- Item_Type: string (nullable = true)\n",
      " |-- Sales_Channel: string (nullable = true)\n",
      " |-- Order_Priority: string (nullable = true)\n",
      " |-- Order_Date: string (nullable = true)\n",
      " |-- Order_ID: integer (nullable = true)\n",
      " |-- Ship_Date: string (nullable = true)\n",
      " |-- Units_Sold: integer (nullable = true)\n",
      " |-- Unit_Price: integer (nullable = true)\n",
      " |-- Unit_Cost: integer (nullable = true)\n",
      " |-- Total_Revenue: integer (nullable = true)\n",
      " |-- Total_Cost: integer (nullable = true)\n",
      " |-- Total_Profit: integer (nullable = true)\n",
      "\n",
      "None\n"
     ]
    },
    {
     "data": {
      "text/plain": [
       "DataFrame[Region: string, Country: string, Item_Type: string, Sales_Channel: string, Order_Priority: string, Order_Date: string, Order_ID: int, Ship_Date: string, Units_Sold: int, Unit_Price: int, Unit_Cost: int, Total_Revenue: int, Total_Cost: int, Total_Profit: int]"
      ]
     },
     "execution_count": 10,
     "metadata": {},
     "output_type": "execute_result"
    }
   ],
   "source": [
    "convert_data_types(dataf, lista_de_colunas_inteiro)"
   ]
  },
  {
   "cell_type": "code",
   "execution_count": 12,
   "id": "dbeef346-f19a-41d2-b8ac-6a80c7988eaa",
   "metadata": {},
   "outputs": [
    {
     "name": "stdout",
     "output_type": "stream",
     "text": [
      "root\n",
      " |-- Region: string (nullable = true)\n",
      " |-- Country: string (nullable = true)\n",
      " |-- Item_Type: string (nullable = true)\n",
      " |-- Sales_Channel: string (nullable = true)\n",
      " |-- Order_Priority: string (nullable = true)\n",
      " |-- Order_Date: string (nullable = true)\n",
      " |-- Order_ID: integer (nullable = true)\n",
      " |-- Ship_Date: string (nullable = true)\n",
      " |-- Units_Sold: integer (nullable = true)\n",
      " |-- Unit_Price: integer (nullable = true)\n",
      " |-- Unit_Cost: integer (nullable = true)\n",
      " |-- Total_Revenue: integer (nullable = true)\n",
      " |-- Total_Cost: integer (nullable = true)\n",
      " |-- Total_Profit: integer (nullable = true)\n",
      "\n"
     ]
    }
   ],
   "source": [
    "dataf.printSchema()"
   ]
  },
  {
   "cell_type": "code",
   "execution_count": 14,
   "id": "411224c3-d3d8-44e6-be98-e7918c73a50d",
   "metadata": {},
   "outputs": [
    {
     "name": "stderr",
     "output_type": "stream",
     "text": [
      "[Stage 7:>                                                          (0 + 1) / 1]\r"
     ]
    },
    {
     "name": "stdout",
     "output_type": "stream",
     "text": [
      "Overwrite done!\n"
     ]
    },
    {
     "name": "stderr",
     "output_type": "stream",
     "text": [
      "                                                                                \r"
     ]
    }
   ],
   "source": [
    "%timeit\n",
    "def save_data_to_database(df, dbname: str, overwrite: bool):\n",
    "    if overwrite:\n",
    "        df.write.format(\"jdbc\").option(\"driver\", \"org.postgresql.Driver\").option(\"url\", os.environ.get('DB_CONNECTION_STRING')) \\\n",
    "        .option(\"dbtable\", dbname).option(\"user\", os.environ.get('USER')).option(\"password\", os.environ.get('PASSWORD')) \\\n",
    "        .mode(\"overwrite\").save()\n",
    "        \n",
    "        return print(\"Overwrite done!\")\n",
    "    \n",
    "    else:\n",
    "        df.write.format(\"jdbc\").option(\"driver\", \"org.postgresql.Driver\").option(\"url\", os.environ.get('DB_CONNECTION_STRING')) \\\n",
    "        .option(\"dbtable\", dbname).option(\"user\", os.environ.get('USER')).option(\"password\", os.environ.get('PASSWORD')).save()\n",
    "        \n",
    "        return print(\"Saved without overwrite!\")\n",
    "        \n",
    "save_data_to_database(dataf, \"sales\", True)"
   ]
  },
  {
   "cell_type": "code",
   "execution_count": 14,
   "id": "70435335-4dd2-4bf3-8b8b-69cca45f414e",
   "metadata": {},
   "outputs": [],
   "source": [
    "spa = spark.read.format(\"jdbc\").option(\"url\", os.environ.get('DB_CONNECTION_STRING')) \\\n",
    "    .option(\"driver\", \"org.postgresql.Driver\").option(\"dbtable\", \"sales3\") \\\n",
    "    .option(\"user\", os.environ.get('USER')).option(\"password\", os.environ.get('PASSWORD')).load()"
   ]
  },
  {
   "cell_type": "code",
   "execution_count": 15,
   "id": "44afb39c-794f-40a6-901f-b649826b8776",
   "metadata": {},
   "outputs": [
    {
     "name": "stdout",
     "output_type": "stream",
     "text": [
      "root\n",
      " |-- Region: string (nullable = true)\n",
      " |-- Country: string (nullable = true)\n",
      " |-- Item_Type: string (nullable = true)\n",
      " |-- Sales_Channel: string (nullable = true)\n",
      " |-- Order_Priority: string (nullable = true)\n",
      " |-- Order_Date: string (nullable = true)\n",
      " |-- Order_ID: string (nullable = true)\n",
      " |-- Ship_Date: string (nullable = true)\n",
      " |-- Units_Sold: string (nullable = true)\n",
      " |-- Unit_Price: string (nullable = true)\n",
      " |-- Unit_Cost: string (nullable = true)\n",
      " |-- Total_Revenue: string (nullable = true)\n",
      " |-- Total_Cost: string (nullable = true)\n",
      " |-- Total_Profit: string (nullable = true)\n",
      " |-- _c14: string (nullable = true)\n",
      " |-- _c15: string (nullable = true)\n",
      "\n"
     ]
    }
   ],
   "source": [
    "spa.printSchema()"
   ]
  },
  {
   "cell_type": "code",
   "execution_count": 16,
   "id": "b0f01364-ddc4-463d-ae6d-1de481367db2",
   "metadata": {},
   "outputs": [
    {
     "data": {
      "text/plain": [
       "254160"
      ]
     },
     "execution_count": 16,
     "metadata": {},
     "output_type": "execute_result"
    }
   ],
   "source": [
    "spa.count()"
   ]
  },
  {
   "cell_type": "code",
   "execution_count": null,
   "id": "b11b51f4-383d-441f-8d38-9c71850aae91",
   "metadata": {},
   "outputs": [],
   "source": []
  }
 ],
 "metadata": {
  "kernelspec": {
   "display_name": "Python 3 (ipykernel)",
   "language": "python",
   "name": "python3"
  },
  "language_info": {
   "codemirror_mode": {
    "name": "ipython",
    "version": 3
   },
   "file_extension": ".py",
   "mimetype": "text/x-python",
   "name": "python",
   "nbconvert_exporter": "python",
   "pygments_lexer": "ipython3",
   "version": "3.9.12"
  }
 },
 "nbformat": 4,
 "nbformat_minor": 5
}
